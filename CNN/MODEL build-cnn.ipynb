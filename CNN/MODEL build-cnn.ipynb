{
 "cells": [
  {
   "cell_type": "markdown",
   "metadata": {},
   "source": [
    "#### import data"
   ]
  },
  {
   "cell_type": "code",
   "execution_count": 1,
   "metadata": {},
   "outputs": [],
   "source": [
    "import pandas as pd  \n",
    "import numpy as np\n",
    "%matplotlib inline\n",
    "import matplotlib.pyplot as plt"
   ]
  },
  {
   "cell_type": "code",
   "execution_count": 9,
   "metadata": {},
   "outputs": [],
   "source": [
    "data = pd.read_json('twitter_labeled_v2.json', lines =True)"
   ]
  },
  {
   "cell_type": "code",
   "execution_count": 10,
   "metadata": {},
   "outputs": [
    {
     "data": {
      "text/plain": [
       "66035"
      ]
     },
     "execution_count": 10,
     "metadata": {},
     "output_type": "execute_result"
    }
   ],
   "source": [
    "len(data)"
   ]
  },
  {
   "cell_type": "code",
   "execution_count": 11,
   "metadata": {},
   "outputs": [
    {
     "data": {
      "text/plain": [
       "favorite       0\n",
       "language       0\n",
       "magnitude    331\n",
       "polarity       0\n",
       "reply          0\n",
       "retweet        0\n",
       "score        331\n",
       "text           0\n",
       "time           0\n",
       "dtype: int64"
      ]
     },
     "execution_count": 11,
     "metadata": {},
     "output_type": "execute_result"
    }
   ],
   "source": [
    "data.isnull().sum()"
   ]
  },
  {
   "cell_type": "markdown",
   "metadata": {},
   "source": [
    "#### tranform label to binary vector [1,0,0] [0,1,0] [0,0,1] neg neural pos"
   ]
  },
  {
   "cell_type": "code",
   "execution_count": 12,
   "metadata": {},
   "outputs": [],
   "source": [
    "data = data.drop(data.score[data.score.isnull()].index)# delete rows that api don't give the result\n",
    "#(in this data 331 twitter don't have result)"
   ]
  },
  {
   "cell_type": "code",
   "execution_count": 13,
   "metadata": {
    "scrolled": true
   },
   "outputs": [
    {
     "data": {
      "text/plain": [
       "65704"
      ]
     },
     "execution_count": 13,
     "metadata": {},
     "output_type": "execute_result"
    }
   ],
   "source": [
    "len(data)"
   ]
  },
  {
   "cell_type": "markdown",
   "metadata": {},
   "source": [
    "#### score < -0.5 strong negative; score < 0 and score >= -0.5 negative; score == 0 neutral; score > 0 and score <= 0.5 positive; score > 0.5 strong positive"
   ]
  },
  {
   "cell_type": "code",
   "execution_count": 14,
   "metadata": {},
   "outputs": [],
   "source": [
    "def get_label_value(score):\n",
    "    if score < -0.5:\n",
    "        return 0\n",
    "    if score < 0 and score >= -0.5:\n",
    "        return 1\n",
    "    if score == 0:\n",
    "        return 2\n",
    "    if score > 0 and score <= 0.5:\n",
    "        return 3\n",
    "    if score > 0.5:\n",
    "        return 4\n",
    "data['label_value'] = data['score'].apply(get_label_value)"
   ]
  },
  {
   "cell_type": "code",
   "execution_count": 15,
   "metadata": {},
   "outputs": [],
   "source": [
    "with open('final_twitter.json', 'w') as f:\n",
    "    f.write(data.to_json(orient='records', lines=True))"
   ]
  },
  {
   "cell_type": "code",
   "execution_count": 16,
   "metadata": {},
   "outputs": [],
   "source": [
    "from sklearn.preprocessing import label_binarize\n",
    "\n",
    "y = label_binarize(data['label_value'], classes=[0, 1, 2,3,4])"
   ]
  },
  {
   "cell_type": "code",
   "execution_count": 10,
   "metadata": {},
   "outputs": [
    {
     "data": {
      "text/plain": [
       "<matplotlib.axes._subplots.AxesSubplot at 0x1be4ff8cf98>"
      ]
     },
     "execution_count": 10,
     "metadata": {},
     "output_type": "execute_result"
    },
    {
     "data": {
      "image/png": "[encoded data removed]",
      "text/plain": [
       "<Figure size 432x288 with 1 Axes>"
      ]
     },
     "metadata": {},
     "output_type": "display_data"
    }
   ],
   "source": [
    "data.label_value.hist()# the data is not balance and most of twitters are positive or neutral"
   ]
  },
  {
   "cell_type": "markdown",
   "metadata": {},
   "source": [
    "#### without emnbedding use tfidf vector as input nodes build a fully connected network"
   ]
  },
  {
   "cell_type": "code",
   "execution_count": 11,
   "metadata": {},
   "outputs": [
    {
     "data": {
      "text/plain": [
       "array([[0, 0, 1, 0, 0],\n",
       "       [0, 0, 1, 0, 0],\n",
       "       [0, 1, 0, 0, 0],\n",
       "       [0, 0, 0, 0, 1],\n",
       "       [0, 0, 0, 1, 0]])"
      ]
     },
     "execution_count": 11,
     "metadata": {},
     "output_type": "execute_result"
    }
   ],
   "source": [
    "y[:5]"
   ]
  },
  {
   "cell_type": "code",
   "execution_count": 4,
   "metadata": {
    "scrolled": true
   },
   "outputs": [
    {
     "name": "stderr",
     "output_type": "stream",
     "text": [
      "c:\\users\\temp\\anaconda3\\envs\\tensorgpu\\lib\\site-packages\\h5py\\__init__.py:36: FutureWarning: Conversion of the second argument of issubdtype from `float` to `np.floating` is deprecated. In future, it will be treated as `np.float64 == np.dtype(float).type`.\n",
      "  from ._conv import register_converters as _register_converters\n",
      "Using TensorFlow backend.\n"
     ]
    }
   ],
   "source": [
    "from keras.models import Sequential\n",
    "from keras.layers import Dense, Dropout, Activation, Flatten, Input\n",
    "from keras.layers.normalization import BatchNormalization\n",
    "from keras.layers import Conv2D, MaxPooling2D, ZeroPadding2D, GlobalAveragePooling2D,Conv1D, MaxPooling1D, Embedding"
   ]
  },
  {
   "cell_type": "code",
   "execution_count": 42,
   "metadata": {},
   "outputs": [],
   "source": [
    "from sklearn.feature_extraction.text import TfidfVectorizer\n",
    "tfidf = TfidfVectorizer()\n",
    "tf_vec = tfidf.fit_transform(data.text)"
   ]
  },
  {
   "cell_type": "code",
   "execution_count": 43,
   "metadata": {},
   "outputs": [
    {
     "data": {
      "text/plain": [
       "27639"
      ]
     },
     "execution_count": 43,
     "metadata": {},
     "output_type": "execute_result"
    }
   ],
   "source": [
    "tf_vec.shape[1]"
   ]
  },
  {
   "cell_type": "code",
   "execution_count": 185,
   "metadata": {},
   "outputs": [],
   "source": [
    "\n",
    "from sklearn.model_selection import train_test_split\n",
    "X_train, X_test, y_train, y_test = train_test_split(tf_vec, y, test_size=0.1, random_state=2)\n",
    "partial_x_train, x_val, partial_y_train, y_val = train_test_split(X_train, y_train, test_size=0.1, random_state=2)"
   ]
  },
  {
   "cell_type": "code",
   "execution_count": 45,
   "metadata": {},
   "outputs": [
    {
     "data": {
      "text/plain": [
       "((52563, 27639), (52563, 5))"
      ]
     },
     "execution_count": 45,
     "metadata": {},
     "output_type": "execute_result"
    }
   ],
   "source": [
    "X_train.shape,y_train.shape"
   ]
  },
  {
   "cell_type": "code",
   "execution_count": 186,
   "metadata": {},
   "outputs": [],
   "source": [
    "#build first nerual network\n",
    "model1 = Sequential()\n",
    "\n",
    "model1.add(Dense(128, activation = 'relu', input_shape = (tf_vec.shape[1],)))\n",
    "\n",
    "model1.add(Dropout(0.2))\n",
    "model1.add(Dense(64, activation = 'relu'))\n",
    "model1.add(Dense(5, activation='sigmoid'))"
   ]
  },
  {
   "cell_type": "code",
   "execution_count": 47,
   "metadata": {},
   "outputs": [
    {
     "name": "stdout",
     "output_type": "stream",
     "text": [
      "_________________________________________________________________\n",
      "Layer (type)                 Output Shape              Param #   \n",
      "=================================================================\n",
      "dense_9 (Dense)              (None, 128)               3537920   \n",
      "_________________________________________________________________\n",
      "dropout_5 (Dropout)          (None, 128)               0         \n",
      "_________________________________________________________________\n",
      "dense_10 (Dense)             (None, 64)                8256      \n",
      "_________________________________________________________________\n",
      "dense_11 (Dense)             (None, 5)                 325       \n",
      "=================================================================\n",
      "Total params: 3,546,501\n",
      "Trainable params: 3,546,501\n",
      "Non-trainable params: 0\n",
      "_________________________________________________________________\n"
     ]
    }
   ],
   "source": [
    "model1.summary()"
   ]
  },
  {
   "cell_type": "code",
   "execution_count": 188,
   "metadata": {},
   "outputs": [],
   "source": [
    "model1.compile(optimizer='rmsprop', \n",
    "         loss='binary_crossentropy', \n",
    "         metrics=['acc'])"
   ]
  },
  {
   "cell_type": "code",
   "execution_count": 21,
   "metadata": {
    "scrolled": true
   },
   "outputs": [
    {
     "name": "stdout",
     "output_type": "stream",
     "text": [
      "Train on 50563 samples, validate on 2000 samples\n",
      "Epoch 1/20\n",
      "50563/50563 [==============================] - 9s 184us/step - loss: 0.4544 - acc: 0.8112 - val_loss: 0.3826 - val_acc: 0.8278\n",
      "Epoch 2/20\n",
      "50563/50563 [==============================] - 8s 152us/step - loss: 0.3391 - acc: 0.8453 - val_loss: 0.3384 - val_acc: 0.8443\n",
      "Epoch 3/20\n",
      "50563/50563 [==============================] - 8s 152us/step - loss: 0.2947 - acc: 0.8688 - val_loss: 0.3246 - val_acc: 0.8523\n",
      "Epoch 4/20\n",
      "50563/50563 [==============================] - 8s 152us/step - loss: 0.2664 - acc: 0.8832 - val_loss: 0.3200 - val_acc: 0.8545\n",
      "Epoch 5/20\n",
      "50563/50563 [==============================] - 8s 154us/step - loss: 0.2439 - acc: 0.8949 - val_loss: 0.3184 - val_acc: 0.8577\n",
      "Epoch 6/20\n",
      "50563/50563 [==============================] - 8s 149us/step - loss: 0.2235 - acc: 0.9053 - val_loss: 0.3205 - val_acc: 0.8585\n",
      "Epoch 7/20\n",
      "50563/50563 [==============================] - 8s 152us/step - loss: 0.2067 - acc: 0.9147 - val_loss: 0.3273 - val_acc: 0.8583\n",
      "Epoch 8/20\n",
      "50563/50563 [==============================] - 8s 152us/step - loss: 0.1905 - acc: 0.9225 - val_loss: 0.3321 - val_acc: 0.8585\n",
      "Epoch 9/20\n",
      "50563/50563 [==============================] - 8s 155us/step - loss: 0.1758 - acc: 0.9292 - val_loss: 0.3448 - val_acc: 0.8556\n",
      "Epoch 10/20\n",
      "50563/50563 [==============================] - 8s 154us/step - loss: 0.1630 - acc: 0.9354 - val_loss: 0.3514 - val_acc: 0.8571\n",
      "Epoch 11/20\n",
      "50563/50563 [==============================] - 8s 154us/step - loss: 0.1508 - acc: 0.9412 - val_loss: 0.3617 - val_acc: 0.8574\n",
      "Epoch 12/20\n",
      "50563/50563 [==============================] - 8s 153us/step - loss: 0.1391 - acc: 0.9463 - val_loss: 0.3772 - val_acc: 0.8567\n",
      "Epoch 13/20\n",
      "50563/50563 [==============================] - 8s 153us/step - loss: 0.1280 - acc: 0.9514 - val_loss: 0.3830 - val_acc: 0.8560\n",
      "Epoch 14/20\n",
      "50563/50563 [==============================] - 8s 152us/step - loss: 0.1178 - acc: 0.9562 - val_loss: 0.4049 - val_acc: 0.8538\n",
      "Epoch 15/20\n",
      "50563/50563 [==============================] - 8s 153us/step - loss: 0.1086 - acc: 0.9597 - val_loss: 0.4137 - val_acc: 0.8530\n",
      "Epoch 16/20\n",
      "50563/50563 [==============================] - 8s 151us/step - loss: 0.0997 - acc: 0.9635 - val_loss: 0.4309 - val_acc: 0.8530\n",
      "Epoch 17/20\n",
      "50563/50563 [==============================] - 8s 152us/step - loss: 0.0914 - acc: 0.9674 - val_loss: 0.4443 - val_acc: 0.8524\n",
      "Epoch 18/20\n",
      "50563/50563 [==============================] - 8s 154us/step - loss: 0.0836 - acc: 0.9703 - val_loss: 0.4622 - val_acc: 0.8523\n",
      "Epoch 19/20\n",
      "50563/50563 [==============================] - 8s 152us/step - loss: 0.0767 - acc: 0.9733 - val_loss: 0.4808 - val_acc: 0.8522\n",
      "Epoch 20/20\n",
      "50563/50563 [==============================] - 8s 151us/step - loss: 0.0706 - acc: 0.9756 - val_loss: 0.4960 - val_acc: 0.8495\n"
     ]
    }
   ],
   "source": [
    "result = model1.fit(partial_x_train, partial_y_train, epochs=20,\n",
    "                   batch_size = 512, validation_data=(x_val,y_val))"
   ]
  },
  {
   "cell_type": "code",
   "execution_count": 22,
   "metadata": {},
   "outputs": [
    {
     "data": {
      "text/plain": [
       "0.8514724959975898"
      ]
     },
     "execution_count": 22,
     "metadata": {},
     "output_type": "execute_result"
    }
   ],
   "source": [
    "model1.evaluate(X_test, y_test, verbose=0)[1]"
   ]
  },
  {
   "cell_type": "code",
   "execution_count": 31,
   "metadata": {},
   "outputs": [
    {
     "data": {
      "image/png": "[encoded data removed]",
      "text/plain": [
       "<Figure size 432x288 with 1 Axes>"
      ]
     },
     "metadata": {},
     "output_type": "display_data"
    }
   ],
   "source": [
    "plt.plot(result.history['acc'])\n",
    "plt.plot(result.history['val_acc'])\n",
    "plt.plot(result.history['loss'])\n",
    "plt.plot(result.history['val_loss'])\n",
    "plt.title('model accuracy')\n",
    "plt.ylabel('accuracy')\n",
    "plt.xlabel('epoch')\n",
    "plt.legend(['train', 'test','loss','val_loss'], loc='upper left')\n",
    "plt.show()"
   ]
  },
  {
   "cell_type": "markdown",
   "metadata": {},
   "source": [
    "#### val loss increase in later epoch, better use early stop"
   ]
  },
  {
   "cell_type": "code",
   "execution_count": null,
   "metadata": {},
   "outputs": [],
   "source": [
    "import numpy as np"
   ]
  },
  {
   "cell_type": "code",
   "execution_count": 33,
   "metadata": {},
   "outputs": [
    {
     "data": {
      "text/plain": [
       "array([4, 3, 3, ..., 3, 0, 3], dtype=int64)"
      ]
     },
     "execution_count": 33,
     "metadata": {},
     "output_type": "execute_result"
    }
   ],
   "source": [
    "np.argmax(y_test,axis=1)"
   ]
  },
  {
   "cell_type": "code",
   "execution_count": 35,
   "metadata": {},
   "outputs": [],
   "source": [
    "predict1 = model1.predict(X_test, verbose=0)"
   ]
  },
  {
   "cell_type": "code",
   "execution_count": 36,
   "metadata": {},
   "outputs": [
    {
     "data": {
      "text/plain": [
       "array([3, 1, 3, ..., 3, 1, 4], dtype=int64)"
      ]
     },
     "execution_count": 36,
     "metadata": {},
     "output_type": "execute_result"
    }
   ],
   "source": [
    "np.argmax(predict1,axis=1)"
   ]
  },
  {
   "cell_type": "code",
   "execution_count": 3,
   "metadata": {},
   "outputs": [],
   "source": [
    "import itertools\n",
    "from sklearn.metrics import confusion_matrix\n",
    "def plot_confusion_matrix(cm, classes,\n",
    "                          normalize=False,\n",
    "                          title='Confusion matrix',\n",
    "                          cmap=plt.cm.Blues):\n",
    "    \"\"\"\n",
    "    This function prints and plots the confusion matrix.\n",
    "    Normalization can be applied by setting `normalize=True`.\n",
    "    \"\"\"\n",
    "    plt.imshow(cm, interpolation='nearest', cmap=cmap)\n",
    "    plt.title(title)\n",
    "    plt.colorbar()\n",
    "    tick_marks = np.arange(len(classes))\n",
    "    plt.xticks(tick_marks, classes, rotation=45)\n",
    "    plt.yticks(tick_marks, classes)\n",
    "\n",
    "    if normalize:\n",
    "        cm = cm.astype('float') / cm.sum(axis=1)[:, np.newaxis]\n",
    "\n",
    "    thresh = cm.max() / 2.\n",
    "    for i, j in itertools.product(range(cm.shape[0]), range(cm.shape[1])):\n",
    "        plt.text(j, i, cm[i, j],\n",
    "                 horizontalalignment=\"center\",\n",
    "                 color=\"white\" if cm[i, j] > thresh else \"black\")\n",
    "\n",
    "    plt.tight_layout()\n",
    "    plt.ylabel('True label')\n",
    "    plt.xlabel('Predicted label')"
   ]
  },
  {
   "cell_type": "code",
   "execution_count": 109,
   "metadata": {},
   "outputs": [],
   "source": [
    "classes = ['strong negative', 'negative', 'neutral','positive','strong positive']"
   ]
  },
  {
   "cell_type": "code",
   "execution_count": 46,
   "metadata": {},
   "outputs": [
    {
     "data": {
      "text/plain": [
       "3    5067\n",
       "2    3035\n",
       "1    2345\n",
       "4    1900\n",
       "0     794\n",
       "dtype: int64"
      ]
     },
     "execution_count": 46,
     "metadata": {},
     "output_type": "execute_result"
    }
   ],
   "source": [
    "pd.value_counts(np.argmax(y_test,axis=1))"
   ]
  },
  {
   "cell_type": "code",
   "execution_count": 47,
   "metadata": {},
   "outputs": [
    {
     "data": {
      "image/png": "[encoded data removed]",
      "text/plain": [
       "<Figure size 432x288 with 2 Axes>"
      ]
     },
     "metadata": {},
     "output_type": "display_data"
    }
   ],
   "source": [
    "from sklearn.metrics import confusion_matrix\n",
    "confusion_mtx = confusion_matrix(np.argmax(y_test,axis=1), np.argmax(predict1,axis=1)) \n",
    "# plot the confusion matrix\n",
    "plot_confusion_matrix(confusion_mtx, classes = classes) "
   ]
  },
  {
   "cell_type": "markdown",
   "metadata": {},
   "source": [
    "#### new part use early stopping"
   ]
  },
  {
   "cell_type": "code",
   "execution_count": 5,
   "metadata": {},
   "outputs": [],
   "source": [
    "from keras.callbacks import ModelCheckpoint, Callback, EarlyStopping\n",
    "callbacks = [EarlyStopping(monitor='val_loss', patience=2, verbose=0),]"
   ]
  },
  {
   "cell_type": "code",
   "execution_count": 189,
   "metadata": {},
   "outputs": [
    {
     "name": "stdout",
     "output_type": "stream",
     "text": [
      "Train on 53219 samples, validate on 5914 samples\n",
      "Epoch 1/20\n",
      "53219/53219 [==============================] - 10s 183us/step - loss: 0.4361 - acc: 0.8154 - val_loss: 0.3612 - val_acc: 0.8318\n",
      "Epoch 2/20\n",
      "53219/53219 [==============================] - 9s 164us/step - loss: 0.3296 - acc: 0.8466 - val_loss: 0.3382 - val_acc: 0.8424\n",
      "Epoch 3/20\n",
      "53219/53219 [==============================] - 9s 161us/step - loss: 0.2918 - acc: 0.8701 - val_loss: 0.3334 - val_acc: 0.8508\n",
      "Epoch 4/20\n",
      "53219/53219 [==============================] - 9s 160us/step - loss: 0.2616 - acc: 0.8875 - val_loss: 0.3385 - val_acc: 0.8495\n",
      "Epoch 5/20\n",
      "53219/53219 [==============================] - 8s 160us/step - loss: 0.2352 - acc: 0.9012 - val_loss: 0.3489 - val_acc: 0.8500\n"
     ]
    }
   ],
   "source": [
    "result = model1.fit(partial_x_train, partial_y_train, epochs=20,shuffle=True,\n",
    "                   batch_size = 512, validation_data=(x_val,y_val), callbacks=callbacks)"
   ]
  },
  {
   "cell_type": "code",
   "execution_count": 190,
   "metadata": {},
   "outputs": [],
   "source": [
    "predict2 = model1.predict(X_test, verbose=0)"
   ]
  },
  {
   "cell_type": "code",
   "execution_count": 191,
   "metadata": {},
   "outputs": [
    {
     "data": {
      "text/plain": [
       "0.8453812215212473"
      ]
     },
     "execution_count": 191,
     "metadata": {},
     "output_type": "execute_result"
    }
   ],
   "source": [
    "model1.evaluate(X_test, y_test, verbose=0)[1]"
   ]
  },
  {
   "cell_type": "code",
   "execution_count": 192,
   "metadata": {},
   "outputs": [
    {
     "data": {
      "image/png": "[encoded data removed]",
      "text/plain": [
       "<Figure size 432x288 with 2 Axes>"
      ]
     },
     "metadata": {},
     "output_type": "display_data"
    }
   ],
   "source": [
    "confusion_mtx = confusion_matrix(np.argmax(y_test,axis=1), np.argmax(predict2,axis=1)) \n",
    "# plot the confusion matrix\n",
    "plot_confusion_matrix(confusion_mtx, classes = classes) "
   ]
  },
  {
   "cell_type": "markdown",
   "metadata": {},
   "source": [
    "#### add regularizer"
   ]
  },
  {
   "cell_type": "code",
   "execution_count": 64,
   "metadata": {},
   "outputs": [],
   "source": [
    "model1 = Sequential()\n",
    "\n",
    "model1.add(Dense(128, activation = 'relu', input_shape = (tf_vec.shape[1],),kernel_regularizer=regularizers.l2(0.01),\n",
    "                ))\n",
    "\n",
    "model1.add(Dropout(0.2))\n",
    "model1.add(Dense(64, activation = 'relu'))\n",
    "model1.add(Dense(5, activation='sigmoid'))"
   ]
  },
  {
   "cell_type": "code",
   "execution_count": 68,
   "metadata": {},
   "outputs": [
    {
     "name": "stdout",
     "output_type": "stream",
     "text": [
      "Train on 50563 samples, validate on 2000 samples\n",
      "Epoch 1/20\n",
      "50563/50563 [==============================] - 8s 159us/step - loss: 0.4056 - acc: 0.8429 - val_loss: 0.3970 - val_acc: 0.8405\n",
      "Epoch 2/20\n",
      "50563/50563 [==============================] - 8s 149us/step - loss: 0.3874 - acc: 0.8471 - val_loss: 0.3985 - val_acc: 0.8412\n",
      "Epoch 3/20\n",
      "50563/50563 [==============================] - 8s 149us/step - loss: 0.3853 - acc: 0.8480 - val_loss: 0.4004 - val_acc: 0.8414\n"
     ]
    }
   ],
   "source": [
    "model1.compile(optimizer='rmsprop', \n",
    "         loss='binary_crossentropy', \n",
    "         metrics=['acc'])\n",
    "result = model1.fit(partial_x_train, partial_y_train, epochs=20,shuffle=True,\n",
    "                   batch_size = 512, validation_data=(x_val,y_val), callbacks=callbacks)"
   ]
  },
  {
   "cell_type": "code",
   "execution_count": 66,
   "metadata": {},
   "outputs": [
    {
     "data": {
      "text/plain": [
       "0.8459934635110101"
      ]
     },
     "execution_count": 66,
     "metadata": {},
     "output_type": "execute_result"
    }
   ],
   "source": [
    "model1.evaluate(X_test, y_test, verbose=0)[1]"
   ]
  },
  {
   "cell_type": "markdown",
   "metadata": {},
   "source": [
    "#### add maxnorm"
   ]
  },
  {
   "cell_type": "code",
   "execution_count": 193,
   "metadata": {},
   "outputs": [
    {
     "name": "stdout",
     "output_type": "stream",
     "text": [
      "Train on 53219 samples, validate on 5914 samples\n",
      "Epoch 1/20\n",
      "53219/53219 [==============================] - 9s 177us/step - loss: 0.4485 - acc: 0.8105 - val_loss: 0.3661 - val_acc: 0.8290\n",
      "Epoch 2/20\n",
      "53219/53219 [==============================] - 9s 161us/step - loss: 0.3352 - acc: 0.8443 - val_loss: 0.3415 - val_acc: 0.8398\n",
      "Epoch 3/20\n",
      "53219/53219 [==============================] - 9s 162us/step - loss: 0.2982 - acc: 0.8668 - val_loss: 0.3363 - val_acc: 0.8513\n",
      "Epoch 4/20\n",
      "53219/53219 [==============================] - 9s 161us/step - loss: 0.2680 - acc: 0.8841 - val_loss: 0.3393 - val_acc: 0.8493\n",
      "Epoch 5/20\n",
      "53219/53219 [==============================] - 9s 162us/step - loss: 0.2413 - acc: 0.8987 - val_loss: 0.3460 - val_acc: 0.8508\n"
     ]
    }
   ],
   "source": [
    "from keras.constraints import maxnorm\n",
    "model1 = Sequential()\n",
    "\n",
    "model1.add(Dense(128, activation = 'relu', input_shape = (tf_vec.shape[1],),kernel_constraint=maxnorm(3),\n",
    "                ))\n",
    "\n",
    "model1.add(Dropout(0.2))\n",
    "model1.add(Dense(64, activation = 'relu'))\n",
    "model1.add(Dense(5, activation='sigmoid'))\n",
    "model1.compile(optimizer='rmsprop', \n",
    "         loss='binary_crossentropy', \n",
    "         metrics=['acc'])\n",
    "result = model1.fit(partial_x_train, partial_y_train, epochs=20,shuffle=True,\n",
    "                   batch_size = 512, validation_data=(x_val,y_val), callbacks=callbacks)"
   ]
  },
  {
   "cell_type": "code",
   "execution_count": 194,
   "metadata": {},
   "outputs": [
    {
     "data": {
      "text/plain": [
       "0.8474509254599104"
      ]
     },
     "execution_count": 194,
     "metadata": {},
     "output_type": "execute_result"
    }
   ],
   "source": [
    "model1.evaluate(X_test, y_test, verbose=0)[1]"
   ]
  },
  {
   "cell_type": "markdown",
   "metadata": {},
   "source": [
    "#### use filter stop words as input"
   ]
  },
  {
   "cell_type": "code",
   "execution_count": 90,
   "metadata": {},
   "outputs": [],
   "source": [
    "tfidf = TfidfVectorizer(lowercase=True, norm=None, stop_words='english', use_idf=False)\n",
    "tf_vec = tfidf.fit_transform(data.text)\n",
    "X_train, X_test, y_train, y_test = train_test_split(tf_vec, y, test_size=0.2, random_state=2)"
   ]
  },
  {
   "cell_type": "code",
   "execution_count": 93,
   "metadata": {},
   "outputs": [
    {
     "data": {
      "text/plain": [
       "(65704, 27343)"
      ]
     },
     "execution_count": 93,
     "metadata": {},
     "output_type": "execute_result"
    }
   ],
   "source": [
    "tf_vec.shape"
   ]
  },
  {
   "cell_type": "code",
   "execution_count": 99,
   "metadata": {
    "scrolled": true
   },
   "outputs": [
    {
     "name": "stdout",
     "output_type": "stream",
     "text": [
      "Train on 47306 samples, validate on 5257 samples\n",
      "Epoch 1/20\n",
      "47306/47306 [==============================] - 8s 174us/step - loss: 0.4475 - acc: 0.8128 - val_loss: 0.3676 - val_acc: 0.8289\n",
      "Epoch 2/20\n",
      "47306/47306 [==============================] - 8s 163us/step - loss: 0.3359 - acc: 0.8437 - val_loss: 0.3392 - val_acc: 0.8404\n",
      "Epoch 3/20\n",
      "47306/47306 [==============================] - 8s 163us/step - loss: 0.2957 - acc: 0.8685 - val_loss: 0.3338 - val_acc: 0.8497\n",
      "Epoch 4/20\n",
      "47306/47306 [==============================] - 8s 161us/step - loss: 0.2655 - acc: 0.8855 - val_loss: 0.3351 - val_acc: 0.8493\n",
      "Epoch 5/20\n",
      "47306/47306 [==============================] - 8s 163us/step - loss: 0.2388 - acc: 0.8990 - val_loss: 0.3430 - val_acc: 0.8479\n"
     ]
    }
   ],
   "source": [
    "from keras.constraints import maxnorm\n",
    "model1 = Sequential()\n",
    "\n",
    "model1.add(Dense(128, activation = 'relu', input_shape = (tf_vec.shape[1],),kernel_constraint=maxnorm(3),\n",
    "                ))\n",
    "\n",
    "model1.add(Dropout(0.2))\n",
    "model1.add(Dense(64, activation = 'relu'))\n",
    "model1.add(Dense(5, activation='sigmoid'))\n",
    "model1.compile(optimizer='rmsprop', \n",
    "         loss='binary_crossentropy', \n",
    "         metrics=['acc'])\n",
    "result = model1.fit(X_train, y_train, epochs=20,shuffle=True,\n",
    "                   batch_size = 512, validation_split = 0.1, callbacks=callbacks)"
   ]
  },
  {
   "cell_type": "code",
   "execution_count": 100,
   "metadata": {},
   "outputs": [
    {
     "data": {
      "text/plain": [
       "0.8454455568968057"
      ]
     },
     "execution_count": 100,
     "metadata": {},
     "output_type": "execute_result"
    }
   ],
   "source": [
    "model1.evaluate(X_test, y_test, verbose=0)[1]"
   ]
  },
  {
   "cell_type": "markdown",
   "metadata": {},
   "source": [
    "#### amazing!  the orignial model i use 30000 twitter , labeld from paralleldots api(only give pos neg neu) the result is 80%"
   ]
  },
  {
   "cell_type": "markdown",
   "metadata": {},
   "source": [
    "#### build  a CNN model with embedding, padding layers, using keras tokenizer get input nodes"
   ]
  },
  {
   "cell_type": "code",
   "execution_count": 7,
   "metadata": {},
   "outputs": [],
   "source": [
    "from keras.preprocessing.text import Tokenizer\n",
    "from keras.preprocessing.sequence import pad_sequences"
   ]
  },
  {
   "cell_type": "markdown",
   "metadata": {},
   "source": [
    "#### keras tokenlzer: fit_on_texts(data.text):get vocabulary list with each index\n",
    "#####tokenizer.texts_to_sequences: rebuild each sentence with word index"
   ]
  },
  {
   "cell_type": "code",
   "execution_count": 17,
   "metadata": {},
   "outputs": [],
   "source": [
    "tokenizer = Tokenizer()\n",
    "tokenizer.fit_on_texts(data.text)\n",
    "sequences = tokenizer.texts_to_sequences(data.text)"
   ]
  },
  {
   "cell_type": "code",
   "execution_count": 68,
   "metadata": {},
   "outputs": [
    {
     "data": {
      "text/plain": [
       "'waves community launches \"guess the seed\" competition win 500 waves tokens!'"
      ]
     },
     "execution_count": 68,
     "metadata": {},
     "output_type": "execute_result"
    }
   ],
   "source": [
    "data.text[0]"
   ]
  },
  {
   "cell_type": "code",
   "execution_count": 66,
   "metadata": {},
   "outputs": [
    {
     "data": {
      "text/plain": [
       "[1402, 176, 1685, 658, 1, 5630, 1566, 119, 199, 1402, 54]"
      ]
     },
     "execution_count": 66,
     "metadata": {},
     "output_type": "execute_result"
    }
   ],
   "source": [
    "sequences[0]"
   ]
  },
  {
   "cell_type": "code",
   "execution_count": 61,
   "metadata": {},
   "outputs": [
    {
     "data": {
      "text/plain": [
       "61"
      ]
     },
     "execution_count": 61,
     "metadata": {},
     "output_type": "execute_result"
    }
   ],
   "source": [
    "max([len(x) for x in sequences])\n"
   ]
  },
  {
   "cell_type": "markdown",
   "metadata": {},
   "source": [
    "### the highest word number in a twitter list is 65. pad other sentence with 0 value to make every sentence have same length"
   ]
  },
  {
   "cell_type": "code",
   "execution_count": 23,
   "metadata": {},
   "outputs": [],
   "source": [
    "x_model2 = pad_sequences(sequences, maxlen=65)"
   ]
  },
  {
   "cell_type": "code",
   "execution_count": 103,
   "metadata": {},
   "outputs": [],
   "source": [
    "from sklearn.model_selection import train_test_split\n",
    "X_train, X_test, y_train, y_test = train_test_split(x_model2, y, test_size=0.1, random_state=2)\n",
    "partial_x_train, x_val, partial_y_train, y_val = train_test_split(X_train, y_train, test_size=0.1, random_state=2)"
   ]
  },
  {
   "cell_type": "code",
   "execution_count": 25,
   "metadata": {},
   "outputs": [],
   "source": [
    "embedding_dim = 200#set word vector'length\n",
    "word_count = len(tokenizer.word_index)"
   ]
  },
  {
   "cell_type": "code",
   "execution_count": 38,
   "metadata": {},
   "outputs": [
    {
     "name": "stdout",
     "output_type": "stream",
     "text": [
      "_________________________________________________________________\n",
      "Layer (type)                 Output Shape              Param #   \n",
      "=================================================================\n",
      "embedding_4 (Embedding)      (None, 65, 200)           5864200   \n",
      "_________________________________________________________________\n",
      "dropout_4 (Dropout)          (None, 65, 200)           0         \n",
      "_________________________________________________________________\n",
      "conv1d_4 (Conv1D)            (None, 63, 250)           150250    \n",
      "_________________________________________________________________\n",
      "max_pooling1d_4 (MaxPooling1 (None, 21, 250)           0         \n",
      "_________________________________________________________________\n",
      "flatten_4 (Flatten)          (None, 5250)              0         \n",
      "_________________________________________________________________\n",
      "dense_7 (Dense)              (None, 200)               1050200   \n",
      "_________________________________________________________________\n",
      "dense_8 (Dense)              (None, 5)                 1005      \n",
      "=================================================================\n",
      "Total params: 7,065,655\n",
      "Trainable params: 7,065,655\n",
      "Non-trainable params: 0\n",
      "_________________________________________________________________\n"
     ]
    }
   ],
   "source": [
    "model2 = Sequential()\n",
    "model2.add(Embedding(word_count + 1, embedding_dim, input_length=65))\n",
    "model2.add(Dropout(0.2))\n",
    "model2.add(Conv1D(250, 3, padding='valid', activation='relu'))#convoultion layer filters = 250 kernel_size = 3 \n",
    "#one layer convolution,because the max word is 65\n",
    "model2.add(MaxPooling1D(3))\n",
    "model2.add(Flatten())\n",
    "model2.add(Dense(200, activation='relu'))\n",
    "model2.add(Dense(5, activation='softmax'))\n",
    "model2.summary()"
   ]
  },
  {
   "cell_type": "code",
   "execution_count": 27,
   "metadata": {
    "scrolled": true
   },
   "outputs": [
    {
     "name": "stdout",
     "output_type": "stream",
     "text": [
      "Train on 53219 samples, validate on 5914 samples\n",
      "Epoch 1/20\n",
      "53219/53219 [==============================] - 6s 116us/step - loss: 0.4000 - acc: 0.8254 - val_loss: 0.3273 - val_acc: 0.8526\n",
      "Epoch 2/20\n",
      "53219/53219 [==============================] - 3s 52us/step - loss: 0.2999 - acc: 0.8640 - val_loss: 0.2950 - val_acc: 0.8645\n",
      "Epoch 3/20\n",
      "53219/53219 [==============================] - 3s 52us/step - loss: 0.2574 - acc: 0.8859 - val_loss: 0.2930 - val_acc: 0.8673\n",
      "Epoch 4/20\n",
      "53219/53219 [==============================] - 3s 52us/step - loss: 0.2275 - acc: 0.9013 - val_loss: 0.2949 - val_acc: 0.8686\n",
      "Epoch 5/20\n",
      "53219/53219 [==============================] - 3s 52us/step - loss: 0.1983 - acc: 0.9168 - val_loss: 0.3134 - val_acc: 0.8670\n",
      "Epoch 6/20\n",
      "53219/53219 [==============================] - 3s 52us/step - loss: 0.1700 - acc: 0.9307 - val_loss: 0.3206 - val_acc: 0.8636\n",
      "Epoch 7/20\n",
      "53219/53219 [==============================] - 3s 52us/step - loss: 0.1424 - acc: 0.9435 - val_loss: 0.3389 - val_acc: 0.8610\n",
      "Epoch 8/20\n",
      "53219/53219 [==============================] - 3s 52us/step - loss: 0.1167 - acc: 0.9551 - val_loss: 0.3586 - val_acc: 0.8627\n",
      "Epoch 9/20\n",
      "53219/53219 [==============================] - 3s 52us/step - loss: 0.0933 - acc: 0.9654 - val_loss: 0.3941 - val_acc: 0.8624\n",
      "Epoch 10/20\n",
      "53219/53219 [==============================] - 3s 52us/step - loss: 0.0746 - acc: 0.9729 - val_loss: 0.4292 - val_acc: 0.8600\n",
      "Epoch 11/20\n",
      "53219/53219 [==============================] - 3s 52us/step - loss: 0.0596 - acc: 0.9786 - val_loss: 0.4744 - val_acc: 0.8572\n",
      "Epoch 12/20\n",
      "53219/53219 [==============================] - 3s 52us/step - loss: 0.0486 - acc: 0.9828 - val_loss: 0.4992 - val_acc: 0.8585\n",
      "Epoch 13/20\n",
      "53219/53219 [==============================] - 3s 52us/step - loss: 0.0379 - acc: 0.9871 - val_loss: 0.5278 - val_acc: 0.8564\n",
      "Epoch 14/20\n",
      "53219/53219 [==============================] - 3s 52us/step - loss: 0.0306 - acc: 0.9896 - val_loss: 0.5933 - val_acc: 0.8568\n",
      "Epoch 15/20\n",
      "53219/53219 [==============================] - 3s 52us/step - loss: 0.0256 - acc: 0.9917 - val_loss: 0.6415 - val_acc: 0.8487\n",
      "Epoch 16/20\n",
      "53219/53219 [==============================] - 3s 52us/step - loss: 0.0216 - acc: 0.9931 - val_loss: 0.6538 - val_acc: 0.8552\n",
      "Epoch 17/20\n",
      "53219/53219 [==============================] - 3s 52us/step - loss: 0.0182 - acc: 0.9938 - val_loss: 0.6939 - val_acc: 0.8522\n",
      "Epoch 18/20\n",
      "53219/53219 [==============================] - 3s 53us/step - loss: 0.0158 - acc: 0.9950 - val_loss: 0.7240 - val_acc: 0.8535\n",
      "Epoch 19/20\n",
      "53219/53219 [==============================] - 3s 52us/step - loss: 0.0145 - acc: 0.9954 - val_loss: 0.7240 - val_acc: 0.8531\n",
      "Epoch 20/20\n",
      "53219/53219 [==============================] - 3s 52us/step - loss: 0.0119 - acc: 0.9960 - val_loss: 0.7991 - val_acc: 0.8548\n"
     ]
    }
   ],
   "source": [
    "model2.compile(optimizer='rmsprop', \n",
    "         loss='binary_crossentropy', \n",
    "         metrics=['acc'])\n",
    "result2 = model2.fit(partial_x_train, partial_y_train, epochs=20,\n",
    "                   batch_size = 512, validation_data=(x_val,y_val))"
   ]
  },
  {
   "cell_type": "code",
   "execution_count": 28,
   "metadata": {},
   "outputs": [],
   "source": [
    "def showplot(result):\n",
    "    plt.plot(result.history['acc'])\n",
    "    plt.plot(result.history['val_acc'])\n",
    "    plt.plot(result.history['loss'])\n",
    "    plt.plot(result.history['val_loss'])\n",
    "    plt.title('model accuracy')\n",
    "    plt.ylabel('accuracy')\n",
    "    plt.xlabel('epoch')\n",
    "    plt.legend(['train', 'test','loss','val_loss'], loc='upper left')\n",
    "    plt.show()"
   ]
  },
  {
   "cell_type": "code",
   "execution_count": 29,
   "metadata": {},
   "outputs": [
    {
     "data": {
      "image/png": "[encoded data removed]",
      "text/plain": [
       "<Figure size 432x288 with 1 Axes>"
      ]
     },
     "metadata": {},
     "output_type": "display_data"
    }
   ],
   "source": [
    "showplot(result2)"
   ]
  },
  {
   "cell_type": "code",
   "execution_count": 30,
   "metadata": {},
   "outputs": [
    {
     "data": {
      "text/plain": [
       "0.8471769949033223"
      ]
     },
     "execution_count": 30,
     "metadata": {},
     "output_type": "execute_result"
    }
   ],
   "source": [
    "model2.evaluate(X_test, y_test, verbose=0)[1]"
   ]
  },
  {
   "cell_type": "markdown",
   "metadata": {},
   "source": [
    "#### fix overfitting"
   ]
  },
  {
   "cell_type": "code",
   "execution_count": 39,
   "metadata": {},
   "outputs": [
    {
     "name": "stdout",
     "output_type": "stream",
     "text": [
      "Train on 53219 samples, validate on 5914 samples\n",
      "Epoch 1/20\n",
      "53219/53219 [==============================] - 3s 57us/step - loss: 0.3931 - acc: 0.8271 - val_loss: 0.3246 - val_acc: 0.8528\n",
      "Epoch 2/20\n",
      "53219/53219 [==============================] - 3s 50us/step - loss: 0.2956 - acc: 0.8654 - val_loss: 0.3077 - val_acc: 0.8594\n",
      "Epoch 3/20\n",
      "53219/53219 [==============================] - 3s 50us/step - loss: 0.2561 - acc: 0.8858 - val_loss: 0.2928 - val_acc: 0.8666\n",
      "Epoch 4/20\n",
      "53219/53219 [==============================] - 3s 51us/step - loss: 0.2274 - acc: 0.9010 - val_loss: 0.2926 - val_acc: 0.8681\n",
      "Epoch 5/20\n",
      "53219/53219 [==============================] - 3s 50us/step - loss: 0.1998 - acc: 0.9151 - val_loss: 0.2982 - val_acc: 0.8681\n",
      "Epoch 6/20\n",
      "53219/53219 [==============================] - 3s 50us/step - loss: 0.1734 - acc: 0.9287 - val_loss: 0.3058 - val_acc: 0.8678\n"
     ]
    }
   ],
   "source": [
    "model2.compile(optimizer='rmsprop', \n",
    "         loss='binary_crossentropy', \n",
    "         metrics=['acc'])\n",
    "result2_early = model2.fit(partial_x_train, partial_y_train, epochs=20,shuffle=True,\n",
    "                   batch_size = 512, validation_data=(x_val,y_val), callbacks=callbacks)"
   ]
  },
  {
   "cell_type": "code",
   "execution_count": 40,
   "metadata": {},
   "outputs": [
    {
     "data": {
      "text/plain": [
       "0.8614213986314063"
      ]
     },
     "execution_count": 40,
     "metadata": {},
     "output_type": "execute_result"
    }
   ],
   "source": [
    "model2.evaluate(X_test, y_test, verbose=0)[1]"
   ]
  },
  {
   "cell_type": "markdown",
   "metadata": {},
   "source": [
    "#### add regularizer"
   ]
  },
  {
   "cell_type": "code",
   "execution_count": 57,
   "metadata": {},
   "outputs": [],
   "source": [
    "from keras import regularizers"
   ]
  },
  {
   "cell_type": "code",
   "execution_count": 69,
   "metadata": {},
   "outputs": [
    {
     "name": "stdout",
     "output_type": "stream",
     "text": [
      "_________________________________________________________________\n",
      "Layer (type)                 Output Shape              Param #   \n",
      "=================================================================\n",
      "embedding_9 (Embedding)      (None, 65, 200)           5864200   \n",
      "_________________________________________________________________\n",
      "dropout_13 (Dropout)         (None, 65, 200)           0         \n",
      "_________________________________________________________________\n",
      "conv1d_9 (Conv1D)            (None, 63, 250)           150250    \n",
      "_________________________________________________________________\n",
      "max_pooling1d_9 (MaxPooling1 (None, 21, 250)           0         \n",
      "_________________________________________________________________\n",
      "flatten_9 (Flatten)          (None, 5250)              0         \n",
      "_________________________________________________________________\n",
      "dense_23 (Dense)             (None, 200)               1050200   \n",
      "_________________________________________________________________\n",
      "dropout_14 (Dropout)         (None, 200)               0         \n",
      "_________________________________________________________________\n",
      "dense_24 (Dense)             (None, 5)                 1005      \n",
      "=================================================================\n",
      "Total params: 7,065,655\n",
      "Trainable params: 7,065,655\n",
      "Non-trainable params: 0\n",
      "_________________________________________________________________\n"
     ]
    }
   ],
   "source": [
    "model2 = Sequential()\n",
    "model2.add(Embedding(word_count + 1, embedding_dim, input_length=65))\n",
    "model2.add(Dropout(0.2))\n",
    "model2.add(Conv1D(250, 3, padding='valid', activation='relu',kernel_regularizer=regularizers.l2(0.01)))#convoultion layer filters = 250 kernel_size = 3 \n",
    "#one layer convolution,because the max word is 65\n",
    "model2.add(MaxPooling1D(3))\n",
    "model2.add(Flatten())\n",
    "model2.add(Dense(200, activation='relu'))\n",
    "model2.add(Dropout(0.2))\n",
    "model2.add(Dense(5, activation='softmax'))\n",
    "model2.summary()"
   ]
  },
  {
   "cell_type": "code",
   "execution_count": 71,
   "metadata": {},
   "outputs": [
    {
     "name": "stdout",
     "output_type": "stream",
     "text": [
      "Train on 53219 samples, validate on 5914 samples\n",
      "Epoch 1/20\n",
      "53219/53219 [==============================] - 3s 60us/step - loss: 0.7329 - acc: 0.8130 - val_loss: 0.4035 - val_acc: 0.8315\n",
      "Epoch 2/20\n",
      "53219/53219 [==============================] - 3s 51us/step - loss: 0.3707 - acc: 0.8407 - val_loss: 0.3490 - val_acc: 0.8509\n",
      "Epoch 3/20\n",
      "53219/53219 [==============================] - 3s 51us/step - loss: 0.3353 - acc: 0.8563 - val_loss: 0.3678 - val_acc: 0.8373\n",
      "Epoch 4/20\n",
      "53219/53219 [==============================] - 3s 51us/step - loss: 0.3155 - acc: 0.8663 - val_loss: 0.3248 - val_acc: 0.8589\n",
      "Epoch 5/20\n",
      "53219/53219 [==============================] - 3s 51us/step - loss: 0.2994 - acc: 0.8746 - val_loss: 0.3227 - val_acc: 0.8584\n",
      "Epoch 6/20\n",
      "53219/53219 [==============================] - 3s 51us/step - loss: 0.2875 - acc: 0.8813 - val_loss: 0.3484 - val_acc: 0.8568\n",
      "Epoch 7/20\n",
      "53219/53219 [==============================] - 3s 51us/step - loss: 0.2767 - acc: 0.8871 - val_loss: 0.3291 - val_acc: 0.8611\n"
     ]
    }
   ],
   "source": [
    "model2.compile(optimizer='rmsprop', \n",
    "         loss='binary_crossentropy', \n",
    "         metrics=['acc'])\n",
    "result2_early_regu = model2.fit(partial_x_train, partial_y_train, epochs=20,shuffle=True,\n",
    "                   batch_size = 512, validation_data=(x_val,y_val), callbacks=callbacks)"
   ]
  },
  {
   "cell_type": "code",
   "execution_count": 72,
   "metadata": {},
   "outputs": [
    {
     "data": {
      "text/plain": [
       "0.8578298617363557"
      ]
     },
     "execution_count": 72,
     "metadata": {},
     "output_type": "execute_result"
    }
   ],
   "source": [
    "model2.evaluate(X_test, y_test, verbose=0)[1]"
   ]
  },
  {
   "cell_type": "markdown",
   "metadata": {},
   "source": [
    "#### seems regulizer can reduce overfitting greatly but also reduce accuacy "
   ]
  },
  {
   "cell_type": "markdown",
   "metadata": {},
   "source": [
    "#### add maxnorm "
   ]
  },
  {
   "cell_type": "code",
   "execution_count": 104,
   "metadata": {},
   "outputs": [],
   "source": [
    "from keras.constraints import maxnorm\n",
    "model2 = Sequential()\n",
    "model2.add(Embedding(word_count + 1, embedding_dim, input_length=65))\n",
    "model2.add(Dropout(0.2))\n",
    "model2.add(Conv1D(250, 3, padding='valid', activation='relu', kernel_constraint=maxnorm(3)))#convoultion layer filters = 250 kernel_size = 3 \n",
    "#one layer convolution,because the max word is 65\n",
    "model2.add(MaxPooling1D(3))\n",
    "model2.add(Flatten())\n",
    "model2.add(Dense(200, activation='relu'))\n",
    "model2.add(Dropout(0.2))\n",
    "model2.add(Dense(5, activation='softmax'))\n"
   ]
  },
  {
   "cell_type": "code",
   "execution_count": 105,
   "metadata": {},
   "outputs": [
    {
     "name": "stdout",
     "output_type": "stream",
     "text": [
      "Train on 53219 samples, validate on 5914 samples\n",
      "Epoch 1/20\n",
      "53219/53219 [==============================] - 3s 65us/step - loss: 0.4017 - acc: 0.8241 - val_loss: 0.3335 - val_acc: 0.8502\n",
      "Epoch 2/20\n",
      "53219/53219 [==============================] - 3s 53us/step - loss: 0.3032 - acc: 0.8620 - val_loss: 0.2949 - val_acc: 0.8651\n",
      "Epoch 3/20\n",
      "53219/53219 [==============================] - 3s 53us/step - loss: 0.2638 - acc: 0.8821 - val_loss: 0.2868 - val_acc: 0.8691\n",
      "Epoch 4/20\n",
      "53219/53219 [==============================] - 3s 53us/step - loss: 0.2361 - acc: 0.8970 - val_loss: 0.2891 - val_acc: 0.8700\n",
      "Epoch 5/20\n",
      "53219/53219 [==============================] - 3s 52us/step - loss: 0.2095 - acc: 0.9113 - val_loss: 0.2991 - val_acc: 0.8676\n"
     ]
    }
   ],
   "source": [
    "model2.compile(optimizer='rmsprop', \n",
    "         loss='binary_crossentropy', \n",
    "         metrics=['acc'])\n",
    "result2_early_batch = model2.fit(partial_x_train, partial_y_train, epochs=20,shuffle=True,\n",
    "                   batch_size = 512, validation_data=(x_val,y_val), callbacks=callbacks)"
   ]
  },
  {
   "cell_type": "code",
   "execution_count": 106,
   "metadata": {},
   "outputs": [
    {
     "data": {
      "text/plain": [
       "0.8651955626341437"
      ]
     },
     "execution_count": 106,
     "metadata": {},
     "output_type": "execute_result"
    }
   ],
   "source": [
    "model2.evaluate(X_test, y_test, verbose=0)[1]"
   ]
  },
  {
   "cell_type": "code",
   "execution_count": 107,
   "metadata": {},
   "outputs": [],
   "source": [
    "predict2 = model2.predict(X_test, verbose=0)"
   ]
  },
  {
   "cell_type": "code",
   "execution_count": 110,
   "metadata": {},
   "outputs": [
    {
     "data": {
      "image/png": "[encoded data removed]",
      "text/plain": [
       "<Figure size 432x288 with 2 Axes>"
      ]
     },
     "metadata": {},
     "output_type": "display_data"
    }
   ],
   "source": [
    "confusion_mtx = confusion_matrix(np.argmax(y_test,axis=1), np.argmax(predict2,axis=1)) \n",
    "# plot the confusion matrix\n",
    "plot_confusion_matrix(confusion_mtx, classes = classes) "
   ]
  },
  {
   "cell_type": "markdown",
   "metadata": {},
   "source": [
    "#### combined wordvec2 with cnn"
   ]
  },
  {
   "cell_type": "markdown",
   "metadata": {},
   "source": [
    "#### because I build two wordvec2 model based on have stop words or not,so I should build a embedding layers by my self"
   ]
  },
  {
   "cell_type": "markdown",
   "metadata": {},
   "source": [
    "##### single word wordvec2 model"
   ]
  },
  {
   "cell_type": "code",
   "execution_count": 111,
   "metadata": {},
   "outputs": [],
   "source": [
    "from gensim.models import Word2Vec\n",
    "import gensim\n",
    "import re"
   ]
  },
  {
   "cell_type": "code",
   "execution_count": 112,
   "metadata": {},
   "outputs": [],
   "source": [
    "wv2single = gensim.models.word2vec.Word2Vec.load(\"singleword2v.w2v\")\n",
    "wv2_single_voc = list(wv2single.wv.vocab.keys())\n",
    "wv2_single_voc_dict = dict(zip(wv2_single_voc,list(range(len(wv2_single_voc)))))\n",
    "wv2_single_sequences = []\n",
    "for text in data.text:\n",
    "    temp_vec = []\n",
    "    for word in text.split():\n",
    "        if word in wv2_single_voc:\n",
    "            temp_vec.append(wv2_single_voc_dict[word])\n",
    "    wv2_single_sequences.append(temp_vec)"
   ]
  },
  {
   "cell_type": "code",
   "execution_count": 26,
   "metadata": {},
   "outputs": [
    {
     "data": {
      "text/plain": [
       "[('great', 0.8452621102333069),\n",
       " ('nice', 0.7789426445960999),\n",
       " ('forward', 0.7583998441696167),\n",
       " ('bad', 0.6935279369354248),\n",
       " ('amazing', 0.6809878349304199),\n",
       " ('positive', 0.656152069568634),\n",
       " ('awesome', 0.6407425403594971),\n",
       " ('better', 0.639358401298523),\n",
       " ('pretty', 0.632267951965332),\n",
       " ('big', 0.6230407953262329)]"
      ]
     },
     "execution_count": 26,
     "metadata": {},
     "output_type": "execute_result"
    }
   ],
   "source": [
    "wv2single.wv.most_similar('good')"
   ]
  },
  {
   "cell_type": "code",
   "execution_count": 113,
   "metadata": {},
   "outputs": [
    {
     "data": {
      "text/plain": [
       "6646"
      ]
     },
     "execution_count": 113,
     "metadata": {},
     "output_type": "execute_result"
    }
   ],
   "source": [
    "len(wv2_single_voc)"
   ]
  },
  {
   "cell_type": "code",
   "execution_count": 114,
   "metadata": {},
   "outputs": [
    {
     "data": {
      "text/plain": [
       "65704"
      ]
     },
     "execution_count": 114,
     "metadata": {},
     "output_type": "execute_result"
    }
   ],
   "source": [
    "len(wv2_single_sequences)"
   ]
  },
  {
   "cell_type": "code",
   "execution_count": 115,
   "metadata": {},
   "outputs": [
    {
     "data": {
      "text/plain": [
       "41"
      ]
     },
     "execution_count": 115,
     "metadata": {},
     "output_type": "execute_result"
    }
   ],
   "source": [
    "max([len(a) for a in wv2_single_sequences])"
   ]
  },
  {
   "cell_type": "code",
   "execution_count": 30,
   "metadata": {},
   "outputs": [
    {
     "data": {
      "text/plain": [
       "<matplotlib.axes._subplots.AxesSubplot at 0x210c17e9080>"
      ]
     },
     "execution_count": 30,
     "metadata": {},
     "output_type": "execute_result"
    },
    {
     "data": {
      "image/png": "[encoded data removed]",
      "text/plain": [
       "<Figure size 432x288 with 1 Axes>"
      ]
     },
     "metadata": {},
     "output_type": "display_data"
    }
   ],
   "source": [
    "pd.Series([len(a) for a in wv2_single_sequences]).hist()"
   ]
  },
  {
   "cell_type": "code",
   "execution_count": 116,
   "metadata": {},
   "outputs": [],
   "source": [
    "x_model3 = pad_sequences(wv2_single_sequences, maxlen=45)"
   ]
  },
  {
   "cell_type": "code",
   "execution_count": 117,
   "metadata": {},
   "outputs": [],
   "source": [
    "embedding_matrix = np.zeros((len(wv2_single_voc_dict)+ 1, 100))\n",
    "for word,index in wv2_single_voc_dict.items():\n",
    "    embedding_matrix[index] = wv2single.wv[word]"
   ]
  },
  {
   "cell_type": "code",
   "execution_count": 118,
   "metadata": {},
   "outputs": [
    {
     "data": {
      "text/plain": [
       "(6647, 100)"
      ]
     },
     "execution_count": 118,
     "metadata": {},
     "output_type": "execute_result"
    }
   ],
   "source": [
    "embedding_matrix.shape"
   ]
  },
  {
   "cell_type": "code",
   "execution_count": 119,
   "metadata": {},
   "outputs": [],
   "source": [
    "embedding_layer = Embedding(len(wv2_single_voc_dict)+ 1,\n",
    "                            100,\n",
    "                            weights=[embedding_matrix],\n",
    "                            input_length=45,\n",
    "                            trainable=False)\n"
   ]
  },
  {
   "cell_type": "code",
   "execution_count": 120,
   "metadata": {},
   "outputs": [],
   "source": [
    "X_train, X_test, y_train, y_test = train_test_split(x_model3, y, test_size=0.1, random_state=2)\n",
    "partial_x_train, x_val, partial_y_train, y_val = train_test_split(X_train, y_train, test_size=0.1, random_state=2)"
   ]
  },
  {
   "cell_type": "code",
   "execution_count": 121,
   "metadata": {},
   "outputs": [
    {
     "name": "stdout",
     "output_type": "stream",
     "text": [
      "_________________________________________________________________\n",
      "Layer (type)                 Output Shape              Param #   \n",
      "=================================================================\n",
      "embedding_16 (Embedding)     (None, 45, 100)           664700    \n",
      "_________________________________________________________________\n",
      "dropout_32 (Dropout)         (None, 45, 100)           0         \n",
      "_________________________________________________________________\n",
      "conv1d_15 (Conv1D)           (None, 43, 250)           75250     \n",
      "_________________________________________________________________\n",
      "flatten_15 (Flatten)         (None, 10750)             0         \n",
      "_________________________________________________________________\n",
      "dense_53 (Dense)             (None, 100)               1075100   \n",
      "_________________________________________________________________\n",
      "dense_54 (Dense)             (None, 5)                 505       \n",
      "=================================================================\n",
      "Total params: 1,815,555\n",
      "Trainable params: 1,150,855\n",
      "Non-trainable params: 664,700\n",
      "_________________________________________________________________\n"
     ]
    }
   ],
   "source": [
    "model3 = Sequential()\n",
    "model3.add(embedding_layer)\n",
    "model3.add(Dropout(0.2))\n",
    "model3.add(Conv1D(250, 3, padding='valid', activation='relu'))#convoultion layer filters = 250 kernel_size = 3 \n",
    "#one layer convolution,because the max word is too samll\n",
    "#model3.add(MaxPooling1D(3))\n",
    "model3.add(Flatten())\n",
    "model3.add(Dense(100, activation='relu'))\n",
    "model3.add(Dense(5, activation='softmax'))\n",
    "model3.summary()"
   ]
  },
  {
   "cell_type": "code",
   "execution_count": 122,
   "metadata": {
    "scrolled": true
   },
   "outputs": [
    {
     "name": "stdout",
     "output_type": "stream",
     "text": [
      "Train on 53219 samples, validate on 5914 samples\n",
      "Epoch 1/20\n",
      "53219/53219 [==============================] - 2s 36us/step - loss: 0.4404 - acc: 0.8151 - val_loss: 0.3886 - val_acc: 0.8228\n",
      "Epoch 2/20\n",
      "53219/53219 [==============================] - 1s 21us/step - loss: 0.3819 - acc: 0.8291 - val_loss: 0.3754 - val_acc: 0.8313\n",
      "Epoch 3/20\n",
      "53219/53219 [==============================] - 1s 21us/step - loss: 0.3689 - acc: 0.8357 - val_loss: 0.3710 - val_acc: 0.8347\n",
      "Epoch 4/20\n",
      "53219/53219 [==============================] - 1s 21us/step - loss: 0.3574 - acc: 0.8412 - val_loss: 0.3679 - val_acc: 0.8357\n",
      "Epoch 5/20\n",
      "53219/53219 [==============================] - 1s 21us/step - loss: 0.3483 - acc: 0.8461 - val_loss: 0.3631 - val_acc: 0.8382\n",
      "Epoch 6/20\n",
      "53219/53219 [==============================] - 1s 21us/step - loss: 0.3391 - acc: 0.8498 - val_loss: 0.3663 - val_acc: 0.8364\n",
      "Epoch 7/20\n",
      "53219/53219 [==============================] - 1s 21us/step - loss: 0.3297 - acc: 0.8549 - val_loss: 0.3726 - val_acc: 0.8339\n",
      "Epoch 8/20\n",
      "53219/53219 [==============================] - 1s 21us/step - loss: 0.3202 - acc: 0.8598 - val_loss: 0.3793 - val_acc: 0.8345\n",
      "Epoch 9/20\n",
      "53219/53219 [==============================] - 1s 21us/step - loss: 0.3098 - acc: 0.8650 - val_loss: 0.3754 - val_acc: 0.8358\n",
      "Epoch 10/20\n",
      "53219/53219 [==============================] - 1s 21us/step - loss: 0.3004 - acc: 0.8696 - val_loss: 0.3846 - val_acc: 0.8347\n",
      "Epoch 11/20\n",
      "53219/53219 [==============================] - 1s 21us/step - loss: 0.2903 - acc: 0.8748 - val_loss: 0.3910 - val_acc: 0.8312\n",
      "Epoch 12/20\n",
      "53219/53219 [==============================] - 1s 21us/step - loss: 0.2814 - acc: 0.8788 - val_loss: 0.3934 - val_acc: 0.8331\n",
      "Epoch 13/20\n",
      "53219/53219 [==============================] - 1s 21us/step - loss: 0.2716 - acc: 0.8838 - val_loss: 0.3994 - val_acc: 0.8324\n",
      "Epoch 14/20\n",
      "53219/53219 [==============================] - 1s 21us/step - loss: 0.2636 - acc: 0.8875 - val_loss: 0.4093 - val_acc: 0.8302\n",
      "Epoch 15/20\n",
      "53219/53219 [==============================] - 1s 21us/step - loss: 0.2547 - acc: 0.8921 - val_loss: 0.4227 - val_acc: 0.8311\n",
      "Epoch 16/20\n",
      "53219/53219 [==============================] - 1s 21us/step - loss: 0.2465 - acc: 0.8955 - val_loss: 0.4321 - val_acc: 0.8278\n",
      "Epoch 17/20\n",
      "53219/53219 [==============================] - 1s 21us/step - loss: 0.2384 - acc: 0.8999 - val_loss: 0.4465 - val_acc: 0.8268\n",
      "Epoch 18/20\n",
      "53219/53219 [==============================] - 1s 21us/step - loss: 0.2313 - acc: 0.9027 - val_loss: 0.4551 - val_acc: 0.8262\n",
      "Epoch 19/20\n",
      "53219/53219 [==============================] - 1s 21us/step - loss: 0.2246 - acc: 0.9061 - val_loss: 0.4630 - val_acc: 0.8219\n",
      "Epoch 20/20\n",
      "53219/53219 [==============================] - 1s 21us/step - loss: 0.2182 - acc: 0.9085 - val_loss: 0.4802 - val_acc: 0.8215\n"
     ]
    }
   ],
   "source": [
    "model3.compile(optimizer='rmsprop', \n",
    "         loss='binary_crossentropy', \n",
    "         metrics=['acc'])\n",
    "result3 = model3.fit(partial_x_train, partial_y_train, epochs=20,\n",
    "                   batch_size = 512, validation_data=(x_val,y_val))"
   ]
  },
  {
   "cell_type": "code",
   "execution_count": 123,
   "metadata": {},
   "outputs": [
    {
     "data": {
      "text/plain": [
       "0.8223710334150418"
      ]
     },
     "execution_count": 123,
     "metadata": {},
     "output_type": "execute_result"
    }
   ],
   "source": [
    "model3.evaluate(X_test, y_test, verbose=0)[1]"
   ]
  },
  {
   "cell_type": "code",
   "execution_count": 124,
   "metadata": {},
   "outputs": [
    {
     "data": {
      "image/png": "[encoded data removed]",
      "text/plain": [
       "<Figure size 432x288 with 1 Axes>"
      ]
     },
     "metadata": {},
     "output_type": "display_data"
    }
   ],
   "source": [
    "showplot(result3)"
   ]
  },
  {
   "cell_type": "code",
   "execution_count": 131,
   "metadata": {
    "scrolled": true
   },
   "outputs": [
    {
     "name": "stdout",
     "output_type": "stream",
     "text": [
      "Train on 53219 samples, validate on 5914 samples\n",
      "Epoch 1/20\n",
      "53219/53219 [==============================] - 2s 34us/step - loss: 0.4380 - acc: 0.8127 - val_loss: 0.3920 - val_acc: 0.8226\n",
      "Epoch 2/20\n",
      "53219/53219 [==============================] - 1s 21us/step - loss: 0.3831 - acc: 0.8288 - val_loss: 0.3745 - val_acc: 0.8333\n",
      "Epoch 3/20\n",
      "53219/53219 [==============================] - 1s 21us/step - loss: 0.3698 - acc: 0.8346 - val_loss: 0.3690 - val_acc: 0.8359\n",
      "Epoch 4/20\n",
      "53219/53219 [==============================] - 1s 21us/step - loss: 0.3595 - acc: 0.8395 - val_loss: 0.3669 - val_acc: 0.8371\n",
      "Epoch 5/20\n",
      "53219/53219 [==============================] - 1s 21us/step - loss: 0.3494 - acc: 0.8446 - val_loss: 0.3660 - val_acc: 0.8373\n",
      "Epoch 6/20\n",
      "53219/53219 [==============================] - 1s 21us/step - loss: 0.3405 - acc: 0.8488 - val_loss: 0.3659 - val_acc: 0.8376\n",
      "Epoch 7/20\n",
      "53219/53219 [==============================] - 1s 21us/step - loss: 0.3310 - acc: 0.8541 - val_loss: 0.3730 - val_acc: 0.8340\n",
      "Epoch 8/20\n",
      "53219/53219 [==============================] - 1s 21us/step - loss: 0.3217 - acc: 0.8585 - val_loss: 0.3690 - val_acc: 0.8361\n"
     ]
    }
   ],
   "source": [
    "model3 = Sequential()\n",
    "model3.add(embedding_layer)\n",
    "model3.add(Dropout(0.2))\n",
    "model3.add(Conv1D(250, 3, padding='valid', activation='relu', kernel_constraint=maxnorm(3)))#convoultion layer filters = 250 kernel_size = 3 \n",
    "#one layer convolution,because the max word is too samll\n",
    "#model3.add(MaxPooling1D(3))\n",
    "model3.add(Flatten())\n",
    "model3.add(Dense(100, activation='relu'))\n",
    "model3.add(Dense(5, activation='softmax'))\n",
    "model3.compile(optimizer='rmsprop', \n",
    "         loss='binary_crossentropy', \n",
    "         metrics=['acc'])\n",
    "result3 = model3.fit(partial_x_train, partial_y_train, epochs=20,shuffle=True,\n",
    "                   batch_size = 512, validation_data=(x_val,y_val), callbacks=callbacks)"
   ]
  },
  {
   "cell_type": "code",
   "execution_count": 132,
   "metadata": {},
   "outputs": [
    {
     "data": {
      "text/plain": [
       "0.8349414196592763"
      ]
     },
     "execution_count": 132,
     "metadata": {},
     "output_type": "execute_result"
    }
   ],
   "source": [
    "model3.evaluate(X_test, y_test, verbose=0)[1]"
   ]
  },
  {
   "cell_type": "markdown",
   "metadata": {},
   "source": [
    "#### use a single word model that have stop words"
   ]
  },
  {
   "cell_type": "code",
   "execution_count": 133,
   "metadata": {},
   "outputs": [],
   "source": [
    "wv2single = gensim.models.word2vec.Word2Vec.load(\"nofilter.w2v\")\n",
    "wv2_single_voc = list(wv2single.wv.vocab.keys())\n",
    "wv2_single_voc_dict = dict(zip(wv2_single_voc,list(range(len(wv2_single_voc)))))\n",
    "wv2_single_sequences = []\n",
    "for text in data.text:\n",
    "    temp_vec = []\n",
    "    \n",
    "    for word in text.split():\n",
    "        if word in wv2_single_voc:\n",
    "            temp_vec.append(wv2_single_voc_dict[word])\n",
    "    wv2_single_sequences.append(temp_vec)\n"
   ]
  },
  {
   "cell_type": "code",
   "execution_count": 134,
   "metadata": {},
   "outputs": [
    {
     "data": {
      "text/plain": [
       "8992"
      ]
     },
     "execution_count": 134,
     "metadata": {},
     "output_type": "execute_result"
    }
   ],
   "source": [
    "len(wv2_single_voc)"
   ]
  },
  {
   "cell_type": "code",
   "execution_count": 135,
   "metadata": {},
   "outputs": [
    {
     "data": {
      "text/plain": [
       "60"
      ]
     },
     "execution_count": 135,
     "metadata": {},
     "output_type": "execute_result"
    }
   ],
   "source": [
    "max([len(a) for a in wv2_single_sequences])"
   ]
  },
  {
   "cell_type": "code",
   "execution_count": 136,
   "metadata": {},
   "outputs": [],
   "source": [
    "x_model3 = pad_sequences(wv2_single_sequences, maxlen=60)"
   ]
  },
  {
   "cell_type": "code",
   "execution_count": 137,
   "metadata": {},
   "outputs": [],
   "source": [
    "embedding_matrix = np.zeros((len(wv2_single_voc_dict)+ 1, 200))\n",
    "for word,index in wv2_single_voc_dict.items():\n",
    "    embedding_matrix[index] = wv2single .wv[word]"
   ]
  },
  {
   "cell_type": "code",
   "execution_count": 138,
   "metadata": {},
   "outputs": [
    {
     "data": {
      "text/plain": [
       "(8993, 200)"
      ]
     },
     "execution_count": 138,
     "metadata": {},
     "output_type": "execute_result"
    }
   ],
   "source": [
    "embedding_matrix.shape"
   ]
  },
  {
   "cell_type": "code",
   "execution_count": 139,
   "metadata": {},
   "outputs": [],
   "source": [
    "from sklearn.model_selection import train_test_split\n",
    "X_train, X_test, y_train, y_test = train_test_split(x_model3, y, test_size=0.1, random_state=2)\n",
    "partial_x_train, x_val, partial_y_train, y_val = train_test_split(X_train, y_train, test_size=0.1, random_state=2)"
   ]
  },
  {
   "cell_type": "code",
   "execution_count": 140,
   "metadata": {},
   "outputs": [],
   "source": [
    "embedding_layer = Embedding(len(wv2_single_voc_dict)+ 1,\n",
    "                            200,\n",
    "                            weights=[embedding_matrix],\n",
    "                            input_length=60,\n",
    "                            trainable=False)\n"
   ]
  },
  {
   "cell_type": "code",
   "execution_count": 141,
   "metadata": {},
   "outputs": [],
   "source": [
    "model3 = Sequential()\n",
    "model3.add(embedding_layer)\n",
    "model3.add(Dropout(0.2))\n",
    "model3.add(Conv1D(250, 3, padding='valid', activation='relu'))#convoultion layer filters = 250 kernel_size = 3 \n",
    "#one layer convolution,because the max word is too samll\n",
    "model3.add(MaxPooling1D(3))\n",
    "model3.add(Flatten())\n",
    "model3.add(Dense(100, activation='relu'))\n",
    "model3.add(Dense(5, activation='softmax'))"
   ]
  },
  {
   "cell_type": "code",
   "execution_count": 142,
   "metadata": {},
   "outputs": [
    {
     "name": "stdout",
     "output_type": "stream",
     "text": [
      "Train on 53219 samples, validate on 5914 samples\n",
      "Epoch 1/20\n",
      "53219/53219 [==============================] - 2s 46us/step - loss: 0.4354 - acc: 0.8171 - val_loss: 0.3841 - val_acc: 0.8298\n",
      "Epoch 2/20\n",
      "53219/53219 [==============================] - 2s 31us/step - loss: 0.3757 - acc: 0.8340 - val_loss: 0.3658 - val_acc: 0.8383\n",
      "Epoch 3/20\n",
      "53219/53219 [==============================] - 2s 31us/step - loss: 0.3579 - acc: 0.8409 - val_loss: 0.3615 - val_acc: 0.8421\n",
      "Epoch 4/20\n",
      "53219/53219 [==============================] - 2s 31us/step - loss: 0.3464 - acc: 0.8467 - val_loss: 0.3557 - val_acc: 0.8424\n",
      "Epoch 5/20\n",
      "53219/53219 [==============================] - 2s 31us/step - loss: 0.3342 - acc: 0.8519 - val_loss: 0.3564 - val_acc: 0.8406\n",
      "Epoch 6/20\n",
      "53219/53219 [==============================] - 2s 31us/step - loss: 0.3214 - acc: 0.8587 - val_loss: 0.3614 - val_acc: 0.8429\n"
     ]
    }
   ],
   "source": [
    "model3.compile(optimizer='rmsprop', \n",
    "         loss='binary_crossentropy', \n",
    "         metrics=['acc'])\n",
    "result3 = model3.fit(partial_x_train, partial_y_train, epochs=20,shuffle=True,\n",
    "                   batch_size = 512, validation_data=(x_val,y_val), callbacks=callbacks)"
   ]
  },
  {
   "cell_type": "code",
   "execution_count": 143,
   "metadata": {},
   "outputs": [
    {
     "data": {
      "text/plain": [
       "0.8393243107416916"
      ]
     },
     "execution_count": 143,
     "metadata": {},
     "output_type": "execute_result"
    }
   ],
   "source": [
    "model3.evaluate(X_test, y_test, verbose=0)[1]"
   ]
  },
  {
   "cell_type": "code",
   "execution_count": 144,
   "metadata": {},
   "outputs": [
    {
     "name": "stdout",
     "output_type": "stream",
     "text": [
      "Train on 53219 samples, validate on 5914 samples\n",
      "Epoch 1/20\n",
      "53219/53219 [==============================] - 2s 46us/step - loss: 0.4305 - acc: 0.8166 - val_loss: 0.3881 - val_acc: 0.8301\n",
      "Epoch 2/20\n",
      "53219/53219 [==============================] - 2s 31us/step - loss: 0.3753 - acc: 0.8339 - val_loss: 0.3737 - val_acc: 0.8348\n",
      "Epoch 3/20\n",
      "53219/53219 [==============================] - 2s 31us/step - loss: 0.3579 - acc: 0.8414 - val_loss: 0.3590 - val_acc: 0.8418\n",
      "Epoch 4/20\n",
      "53219/53219 [==============================] - 2s 31us/step - loss: 0.3451 - acc: 0.8471 - val_loss: 0.3674 - val_acc: 0.8372\n",
      "Epoch 5/20\n",
      "53219/53219 [==============================] - 2s 31us/step - loss: 0.3334 - acc: 0.8525 - val_loss: 0.3614 - val_acc: 0.8391\n"
     ]
    }
   ],
   "source": [
    "model3 = Sequential()\n",
    "model3.add(embedding_layer)\n",
    "model3.add(Dropout(0.2))\n",
    "model3.add(Conv1D(250, 3, padding='valid', activation='relu', kernel_constraint=maxnorm(3)))#convoultion layer filters = 250 kernel_size = 3 \n",
    "#one layer convolution,because the max word is too samll\n",
    "model3.add(MaxPooling1D(3))\n",
    "model3.add(Flatten())\n",
    "model3.add(Dense(100, activation='relu'))\n",
    "model3.add(Dense(5, activation='softmax'))\n",
    "model3.compile(optimizer='rmsprop', \n",
    "         loss='binary_crossentropy', \n",
    "         metrics=['acc'])\n",
    "result3 = model3.fit(partial_x_train, partial_y_train, epochs=20,shuffle=True,\n",
    "                   batch_size = 512, validation_data=(x_val,y_val), callbacks=callbacks)"
   ]
  },
  {
   "cell_type": "code",
   "execution_count": 145,
   "metadata": {},
   "outputs": [
    {
     "data": {
      "text/plain": [
       "0.8386547022931853"
      ]
     },
     "execution_count": 145,
     "metadata": {},
     "output_type": "execute_result"
    }
   ],
   "source": [
    "model3.evaluate(X_test, y_test, verbose=0)[1]"
   ]
  },
  {
   "cell_type": "markdown",
   "metadata": {},
   "source": [
    "#### use pretrained glove model"
   ]
  },
  {
   "cell_type": "code",
   "execution_count": 89,
   "metadata": {},
   "outputs": [
    {
     "name": "stderr",
     "output_type": "stream",
     "text": [
      "c:\\users\\temp\\anaconda3\\envs\\tensorgpu\\lib\\site-packages\\gensim\\utils.py:1197: UserWarning: detected Windows; aliasing chunkize to chunkize_serial\n",
      "  warnings.warn(\"detected Windows; aliasing chunkize to chunkize_serial\")\n"
     ]
    }
   ],
   "source": [
    "import gensim.downloader as api\n",
    "glove_twitter = api.load(\"glove-twitter-200\")"
   ]
  },
  {
   "cell_type": "code",
   "execution_count": 146,
   "metadata": {},
   "outputs": [
    {
     "name": "stderr",
     "output_type": "stream",
     "text": [
      "c:\\users\\temp\\anaconda3\\envs\\tensorgpu\\lib\\site-packages\\ipykernel_launcher.py:1: DeprecationWarning: Call to deprecated `wv` (Attribute will be removed in 4.0.0, use self instead).\n",
      "  \"\"\"Entry point for launching an IPython kernel.\n"
     ]
    },
    {
     "data": {
      "text/plain": [
       "[('great', 0.8672515749931335),\n",
       " ('well', 0.8378019332885742),\n",
       " ('nice', 0.8338046073913574),\n",
       " ('better', 0.8206877112388611),\n",
       " ('night', 0.8163402080535889),\n",
       " ('morning', 0.8079935908317566),\n",
       " ('but', 0.8020180463790894),\n",
       " ('bad', 0.7983508110046387),\n",
       " ('too', 0.7936956286430359),\n",
       " ('it', 0.7926609516143799)]"
      ]
     },
     "execution_count": 146,
     "metadata": {},
     "output_type": "execute_result"
    }
   ],
   "source": [
    "glove_twitter.wv.most_similar('good')"
   ]
  },
  {
   "cell_type": "code",
   "execution_count": 9,
   "metadata": {},
   "outputs": [
    {
     "name": "stderr",
     "output_type": "stream",
     "text": [
      "C:\\Users\\TEMP\\Anaconda3\\envs\\nlp\\lib\\site-packages\\ipykernel_launcher.py:1: DeprecationWarning: Call to deprecated `wv` (Attribute will be removed in 4.0.0, use self instead).\n",
      "  \"\"\"Entry point for launching an IPython kernel.\n"
     ]
    },
    {
     "data": {
      "text/plain": [
       "1193514"
      ]
     },
     "execution_count": 9,
     "metadata": {},
     "output_type": "execute_result"
    }
   ],
   "source": [
    "len(glove_twitter.wv.vocab.keys())"
   ]
  },
  {
   "cell_type": "code",
   "execution_count": 147,
   "metadata": {},
   "outputs": [],
   "source": [
    "embeddings_index = {}\n",
    "for w in glove_twitter.vocab.keys():\n",
    "    embeddings_index[w] = glove_twitter[w]"
   ]
  },
  {
   "cell_type": "code",
   "execution_count": 149,
   "metadata": {},
   "outputs": [],
   "source": [
    "from keras.preprocessing.text import Tokenizer\n",
    "from keras.preprocessing.sequence import pad_sequences\n",
    "\n",
    "tokenizer = Tokenizer()\n",
    "tokenizer.fit_on_texts(data.text)\n",
    "sequences = tokenizer.texts_to_sequences(data.text)"
   ]
  },
  {
   "cell_type": "code",
   "execution_count": 150,
   "metadata": {},
   "outputs": [
    {
     "data": {
      "text/plain": [
       "29320"
      ]
     },
     "execution_count": 150,
     "metadata": {},
     "output_type": "execute_result"
    }
   ],
   "source": [
    "len(tokenizer.word_index)#tokenizer.word_index"
   ]
  },
  {
   "cell_type": "code",
   "execution_count": 151,
   "metadata": {},
   "outputs": [],
   "source": [
    "modelx6 = pad_sequences(sequences, maxlen=65)"
   ]
  },
  {
   "cell_type": "code",
   "execution_count": 152,
   "metadata": {},
   "outputs": [],
   "source": [
    "embedding_matrix = np.zeros((len(tokenizer.word_index)+1, 200))\n",
    "for word, i in tokenizer.word_index.items():\n",
    "    \n",
    "    embedding_vector = embeddings_index.get(word)\n",
    "    if embedding_vector is not None:\n",
    "        embedding_matrix[i] = embedding_vector"
   ]
  },
  {
   "cell_type": "code",
   "execution_count": 153,
   "metadata": {},
   "outputs": [
    {
     "data": {
      "text/plain": [
       "(29321, 200)"
      ]
     },
     "execution_count": 153,
     "metadata": {},
     "output_type": "execute_result"
    }
   ],
   "source": [
    "embedding_matrix.shape"
   ]
  },
  {
   "cell_type": "code",
   "execution_count": 154,
   "metadata": {},
   "outputs": [],
   "source": [
    "from sklearn.model_selection import train_test_split\n",
    "X_train, X_test, y_train, y_test = train_test_split(modelx6, y, test_size=0.1, random_state=2)\n",
    "partial_x_train, x_val, partial_y_train, y_val = train_test_split(X_train, y_train, test_size=0.1, random_state=2)"
   ]
  },
  {
   "cell_type": "code",
   "execution_count": 155,
   "metadata": {},
   "outputs": [],
   "source": [
    "model6 = Sequential()\n",
    "model6.add(Embedding(len(tokenizer.word_index)+1, 200, weights=[embedding_matrix], input_length=65, trainable=False))\n",
    "model6.add(Dropout(0.2))\n",
    "model6.add(Conv1D(250, 3, padding='valid', activation='relu'))#convoultion layer filters = 250 kernel_size = 3 \n",
    "#one layer convolution,because the max word is too samll\n",
    "model6.add(MaxPooling1D(3))\n",
    "model6.add(Flatten())\n",
    "model6.add(Dense(100, activation='relu'))\n",
    "model6.add(Dense(5, activation='softmax'))\n"
   ]
  },
  {
   "cell_type": "code",
   "execution_count": 156,
   "metadata": {},
   "outputs": [
    {
     "name": "stdout",
     "output_type": "stream",
     "text": [
      "Train on 53219 samples, validate on 5914 samples\n",
      "Epoch 1/20\n",
      "53219/53219 [==============================] - 2s 47us/step - loss: 0.4028 - acc: 0.8246 - val_loss: 0.3488 - val_acc: 0.8434\n",
      "Epoch 2/20\n",
      "53219/53219 [==============================] - 2s 33us/step - loss: 0.3382 - acc: 0.8456 - val_loss: 0.3261 - val_acc: 0.8504\n",
      "Epoch 3/20\n",
      "53219/53219 [==============================] - 2s 33us/step - loss: 0.3166 - acc: 0.8565 - val_loss: 0.3148 - val_acc: 0.8558\n",
      "Epoch 4/20\n",
      "53219/53219 [==============================] - 2s 33us/step - loss: 0.3008 - acc: 0.8651 - val_loss: 0.3094 - val_acc: 0.8584\n",
      "Epoch 5/20\n",
      "53219/53219 [==============================] - 2s 33us/step - loss: 0.2850 - acc: 0.8731 - val_loss: 0.3162 - val_acc: 0.8568\n",
      "Epoch 6/20\n",
      "53219/53219 [==============================] - 2s 33us/step - loss: 0.2713 - acc: 0.8804 - val_loss: 0.3143 - val_acc: 0.8578\n"
     ]
    }
   ],
   "source": [
    "model6.compile(optimizer='rmsprop', \n",
    "         loss='binary_crossentropy', \n",
    "         metrics=['acc'])\n",
    "result6 = model6.fit(partial_x_train, partial_y_train, epochs=20,shuffle=True,\n",
    "                   batch_size = 512, validation_data=(x_val,y_val), callbacks=callbacks)"
   ]
  },
  {
   "cell_type": "code",
   "execution_count": 157,
   "metadata": {
    "scrolled": true
   },
   "outputs": [
    {
     "data": {
      "text/plain": [
       "0.8553036135945794"
      ]
     },
     "execution_count": 157,
     "metadata": {},
     "output_type": "execute_result"
    }
   ],
   "source": [
    "model6.evaluate(X_test, y_test, verbose=0)[1]"
   ]
  },
  {
   "cell_type": "code",
   "execution_count": 158,
   "metadata": {},
   "outputs": [
    {
     "name": "stdout",
     "output_type": "stream",
     "text": [
      "Train on 53219 samples, validate on 5914 samples\n",
      "Epoch 1/20\n",
      "53219/53219 [==============================] - 3s 48us/step - loss: 0.4278 - acc: 0.8216 - val_loss: 0.3487 - val_acc: 0.8404\n",
      "Epoch 2/20\n",
      "53219/53219 [==============================] - 2s 33us/step - loss: 0.3413 - acc: 0.8442 - val_loss: 0.3302 - val_acc: 0.8495\n",
      "Epoch 3/20\n",
      "53219/53219 [==============================] - 2s 33us/step - loss: 0.3201 - acc: 0.8543 - val_loss: 0.3154 - val_acc: 0.8552\n",
      "Epoch 4/20\n",
      "53219/53219 [==============================] - 2s 33us/step - loss: 0.3045 - acc: 0.8624 - val_loss: 0.3240 - val_acc: 0.8516\n",
      "Epoch 5/20\n",
      "53219/53219 [==============================] - 2s 33us/step - loss: 0.2881 - acc: 0.8712 - val_loss: 0.3093 - val_acc: 0.8591\n",
      "Epoch 6/20\n",
      "53219/53219 [==============================] - 2s 34us/step - loss: 0.2739 - acc: 0.8791 - val_loss: 0.3101 - val_acc: 0.8605\n",
      "Epoch 7/20\n",
      "53219/53219 [==============================] - 2s 34us/step - loss: 0.2587 - acc: 0.8866 - val_loss: 0.3151 - val_acc: 0.8583\n"
     ]
    },
    {
     "data": {
      "text/plain": [
       "0.8546948738882593"
      ]
     },
     "execution_count": 158,
     "metadata": {},
     "output_type": "execute_result"
    }
   ],
   "source": [
    "model6 = Sequential()\n",
    "model6.add(Embedding(len(tokenizer.word_index)+1, 200, weights=[embedding_matrix], input_length=65, trainable=False))\n",
    "model6.add(Dropout(0.2))\n",
    "model6.add(Conv1D(250, 3, padding='valid', activation='relu', kernel_constraint=maxnorm(3)))#convoultion layer filters = 250 kernel_size = 3 \n",
    "#one layer convolution,because the max word is too samll\n",
    "model6.add(MaxPooling1D(3))\n",
    "model6.add(Flatten())\n",
    "model6.add(Dense(100, activation='relu'))\n",
    "model6.add(Dense(5, activation='softmax'))\n",
    "model6.compile(optimizer='rmsprop', \n",
    "         loss='binary_crossentropy', \n",
    "         metrics=['acc'])\n",
    "result6 = model6.fit(partial_x_train, partial_y_train, epochs=20,shuffle=True,\n",
    "                   batch_size = 512, validation_data=(x_val,y_val), callbacks=callbacks)\n",
    "model6.evaluate(X_test, y_test, verbose=0)[1]"
   ]
  },
  {
   "cell_type": "code",
   "execution_count": 159,
   "metadata": {},
   "outputs": [],
   "source": [
    "predict3 = model6.predict(X_test, verbose=0)"
   ]
  },
  {
   "cell_type": "code",
   "execution_count": 160,
   "metadata": {},
   "outputs": [
    {
     "data": {
      "image/png": "[encoded data removed]",
      "text/plain": [
       "<Figure size 432x288 with 2 Axes>"
      ]
     },
     "metadata": {},
     "output_type": "display_data"
    }
   ],
   "source": [
    "predict3 = model6.predict(X_test, verbose=0)\n",
    "confusion_mtx = confusion_matrix(np.argmax(y_test,axis=1), np.argmax(predict3,axis=1)) \n",
    "# plot the confusion matrix\n",
    "plot_confusion_matrix(confusion_mtx, classes = classes) "
   ]
  },
  {
   "cell_type": "markdown",
   "metadata": {},
   "source": [
    "#### use bigram set conv1d kernel_size = 2"
   ]
  },
  {
   "cell_type": "code",
   "execution_count": 162,
   "metadata": {},
   "outputs": [],
   "source": [
    "model7 = Sequential()\n",
    "model7.add(Embedding(len(tokenizer.word_index)+1, 200, weights=[embedding_matrix], input_length=65, trainable=False))\n",
    "model7.add(Dropout(0.2))\n",
    "model7.add(Conv1D(250, 2, padding='valid', activation='relu'))#convoultion layer filters = 250 kernel_size = 3 \n",
    "#one layer convolution,because the max word is too samll\n",
    "model7.add(MaxPooling1D(3))\n",
    "model7.add(Flatten())\n",
    "model7.add(Dense(100, activation='relu'))\n",
    "model7.add(Dense(5, activation='softmax'))"
   ]
  },
  {
   "cell_type": "code",
   "execution_count": 163,
   "metadata": {},
   "outputs": [
    {
     "name": "stdout",
     "output_type": "stream",
     "text": [
      "Train on 53219 samples, validate on 5914 samples\n",
      "Epoch 1/10\n",
      "53219/53219 [==============================] - 2s 43us/step - loss: 0.2468 - acc: 0.8928 - val_loss: 0.3192 - val_acc: 0.8574\n",
      "Epoch 2/10\n",
      "53219/53219 [==============================] - 2s 33us/step - loss: 0.2344 - acc: 0.8988 - val_loss: 0.3333 - val_acc: 0.8497\n",
      "Epoch 3/10\n",
      "53219/53219 [==============================] - 2s 33us/step - loss: 0.2226 - acc: 0.9052 - val_loss: 0.3295 - val_acc: 0.8523\n"
     ]
    }
   ],
   "source": [
    "model7.compile(optimizer='rmsprop', \n",
    "         loss='binary_crossentropy', \n",
    "         metrics=['acc'])\n",
    "result7 = model6.fit(partial_x_train, partial_y_train, epochs=10,shuffle=True,\n",
    "                   batch_size = 512, validation_data=(x_val,y_val),callbacks=callbacks)"
   ]
  },
  {
   "cell_type": "code",
   "execution_count": 164,
   "metadata": {},
   "outputs": [
    {
     "data": {
      "text/plain": [
       "0.800000011920929"
      ]
     },
     "execution_count": 164,
     "metadata": {},
     "output_type": "execute_result"
    }
   ],
   "source": [
    "model7.evaluate(X_test, y_test, verbose=0)[1]"
   ]
  },
  {
   "cell_type": "markdown",
   "metadata": {},
   "source": [
    "#### add LSTM layer\n"
   ]
  },
  {
   "cell_type": "code",
   "execution_count": 165,
   "metadata": {},
   "outputs": [],
   "source": [
    "from keras.layers import LSTM"
   ]
  },
  {
   "cell_type": "code",
   "execution_count": 169,
   "metadata": {},
   "outputs": [
    {
     "name": "stdout",
     "output_type": "stream",
     "text": [
      "_________________________________________________________________\n",
      "Layer (type)                 Output Shape              Param #   \n",
      "=================================================================\n",
      "embedding_22 (Embedding)     (None, 65, 200)           5864200   \n",
      "_________________________________________________________________\n",
      "lstm_2 (LSTM)                (None, 200)               320800    \n",
      "_________________________________________________________________\n",
      "dropout_43 (Dropout)         (None, 200)               0         \n",
      "_________________________________________________________________\n",
      "dense_74 (Dense)             (None, 5)                 1005      \n",
      "=================================================================\n",
      "Total params: 6,186,005\n",
      "Trainable params: 321,805\n",
      "Non-trainable params: 5,864,200\n",
      "_________________________________________________________________\n"
     ]
    }
   ],
   "source": [
    "model8 = Sequential()\n",
    "model8.add(Embedding(len(tokenizer.word_index)+1, 200, weights=[embedding_matrix], input_length=65, trainable=False))\n",
    "model8.add(LSTM(200, dropout=0.2, recurrent_dropout=0.2))\n",
    "model8.add(Dropout(0.2))\n",
    "\n",
    "model8.add(Dense(5, activation='softmax'))\n",
    "model8.summary()"
   ]
  },
  {
   "cell_type": "code",
   "execution_count": 170,
   "metadata": {},
   "outputs": [
    {
     "name": "stdout",
     "output_type": "stream",
     "text": [
      "Train on 53219 samples, validate on 5914 samples\n",
      "Epoch 1/10\n",
      "53219/53219 [==============================] - 2s 44us/step - loss: 0.1792 - acc: 0.9262 - val_loss: 0.3661 - val_acc: 0.8520\n",
      "Epoch 2/10\n",
      "53219/53219 [==============================] - 2s 33us/step - loss: 0.1731 - acc: 0.9286 - val_loss: 0.3674 - val_acc: 0.8492\n",
      "Epoch 3/10\n",
      "53219/53219 [==============================] - 2s 34us/step - loss: 0.1637 - acc: 0.9338 - val_loss: 0.3809 - val_acc: 0.8488\n",
      "Epoch 4/10\n",
      "53219/53219 [==============================] - 2s 33us/step - loss: 0.1556 - acc: 0.9373 - val_loss: 0.3975 - val_acc: 0.8389\n",
      "Epoch 5/10\n",
      "53219/53219 [==============================] - 2s 33us/step - loss: 0.1491 - acc: 0.9400 - val_loss: 0.4091 - val_acc: 0.8482\n",
      "Epoch 6/10\n",
      "53219/53219 [==============================] - 2s 34us/step - loss: 0.1420 - acc: 0.9436 - val_loss: 0.4308 - val_acc: 0.8485\n",
      "Epoch 7/10\n",
      "53219/53219 [==============================] - 2s 33us/step - loss: 0.1356 - acc: 0.9464 - val_loss: 0.4191 - val_acc: 0.8463\n",
      "Epoch 8/10\n",
      "53219/53219 [==============================] - 2s 34us/step - loss: 0.1301 - acc: 0.9479 - val_loss: 0.4275 - val_acc: 0.8474\n",
      "Epoch 9/10\n",
      "53219/53219 [==============================] - 2s 33us/step - loss: 0.1240 - acc: 0.9511 - val_loss: 0.4538 - val_acc: 0.8434\n",
      "Epoch 10/10\n",
      "53219/53219 [==============================] - 2s 34us/step - loss: 0.1184 - acc: 0.9539 - val_loss: 0.4591 - val_acc: 0.8449\n"
     ]
    }
   ],
   "source": [
    "model8.compile(optimizer='rmsprop', \n",
    "         loss='binary_crossentropy', \n",
    "         metrics=['acc'])\n",
    "result8 = model6.fit(partial_x_train, partial_y_train, epochs=10,\n",
    "                   batch_size = 512, validation_data=(x_val,y_val))"
   ]
  },
  {
   "cell_type": "code",
   "execution_count": 171,
   "metadata": {},
   "outputs": [
    {
     "data": {
      "text/plain": [
       "0.800000011920929"
      ]
     },
     "execution_count": 171,
     "metadata": {},
     "output_type": "execute_result"
    }
   ],
   "source": [
    "model8.evaluate(X_test, y_test, verbose=0)[1]"
   ]
  },
  {
   "cell_type": "markdown",
   "metadata": {},
   "source": [
    "#### use doc2vec model"
   ]
  },
  {
   "cell_type": "code",
   "execution_count": 174,
   "metadata": {},
   "outputs": [],
   "source": [
    "doc_model = gensim.models.Doc2Vec.load('doc2vec.w2v')\n"
   ]
  },
  {
   "cell_type": "code",
   "execution_count": 175,
   "metadata": {},
   "outputs": [
    {
     "data": {
      "text/plain": [
       "65704"
      ]
     },
     "execution_count": 175,
     "metadata": {},
     "output_type": "execute_result"
    }
   ],
   "source": [
    "len(doc_model.docvecs)"
   ]
  },
  {
   "cell_type": "code",
   "execution_count": 176,
   "metadata": {},
   "outputs": [],
   "source": [
    "x_model5 = []\n",
    "for i in range(len(doc_model.docvecs)):\n",
    "    x_model5.append(doc_model.docvecs[i])"
   ]
  },
  {
   "cell_type": "code",
   "execution_count": 177,
   "metadata": {},
   "outputs": [
    {
     "data": {
      "text/plain": [
       "array([[ 0.15150775,  0.07151749,  0.07180201, ...,  0.132304  ,\n",
       "         0.0329794 , -0.08733618],\n",
       "       [ 0.0686096 , -0.01888565,  0.08451887, ..., -0.05630482,\n",
       "        -0.08765972, -0.23774159],\n",
       "       [-0.00334271, -0.00906468, -0.02458597, ...,  0.00251458,\n",
       "        -0.02325469, -0.02219841],\n",
       "       ...,\n",
       "       [ 0.1284593 , -0.1165425 , -0.13060783, ..., -0.03808872,\n",
       "        -0.05020564,  0.05547182],\n",
       "       [-0.02539518,  0.01650828,  0.01879966, ...,  0.0625739 ,\n",
       "         0.02941871, -0.15449521],\n",
       "       [ 0.0593664 , -0.02316635, -0.04938976, ...,  0.02264089,\n",
       "        -0.01537439, -0.03399729]], dtype=float32)"
      ]
     },
     "execution_count": 177,
     "metadata": {},
     "output_type": "execute_result"
    }
   ],
   "source": [
    "np.array(x_model5)"
   ]
  },
  {
   "cell_type": "code",
   "execution_count": 178,
   "metadata": {},
   "outputs": [],
   "source": [
    "X_train, X_test, y_train, y_test = train_test_split(np.array(x_model5), y, test_size=0.1, random_state=2)\n",
    "partial_x_train, x_val, partial_y_train, y_val = train_test_split(X_train, y_train, test_size=0.1, random_state=2)"
   ]
  },
  {
   "cell_type": "code",
   "execution_count": 179,
   "metadata": {},
   "outputs": [
    {
     "name": "stdout",
     "output_type": "stream",
     "text": [
      "_________________________________________________________________\n",
      "Layer (type)                 Output Shape              Param #   \n",
      "=================================================================\n",
      "dense_75 (Dense)             (None, 32)                6432      \n",
      "_________________________________________________________________\n",
      "dropout_44 (Dropout)         (None, 32)                0         \n",
      "_________________________________________________________________\n",
      "dense_76 (Dense)             (None, 5)                 165       \n",
      "=================================================================\n",
      "Total params: 6,597\n",
      "Trainable params: 6,597\n",
      "Non-trainable params: 0\n",
      "_________________________________________________________________\n"
     ]
    }
   ],
   "source": [
    "#build first nerual network\n",
    "model5 = Sequential()\n",
    "\n",
    "model5.add(Dense(32, activation = 'relu', input_shape = (200,)))\n",
    "\n",
    "model5.add(Dropout(0.2))\n",
    "\n",
    "model5.add(Dense(5, activation='sigmoid'))\n",
    "model5.summary()"
   ]
  },
  {
   "cell_type": "code",
   "execution_count": 180,
   "metadata": {},
   "outputs": [],
   "source": [
    "model5.compile(optimizer='rmsprop', \n",
    "         loss='binary_crossentropy', \n",
    "               \n",
    "         metrics=['acc'])"
   ]
  },
  {
   "cell_type": "code",
   "execution_count": 182,
   "metadata": {},
   "outputs": [
    {
     "name": "stdout",
     "output_type": "stream",
     "text": [
      "Train on 53219 samples, validate on 5914 samples\n",
      "Epoch 1/20\n",
      "53219/53219 [==============================] - 9s 168us/step - loss: 0.4280 - acc: 0.8095 - val_loss: 0.4199 - val_acc: 0.8133\n",
      "Epoch 2/20\n",
      "53219/53219 [==============================] - 9s 169us/step - loss: 0.4269 - acc: 0.8109 - val_loss: 0.4179 - val_acc: 0.8176\n",
      "Epoch 3/20\n",
      "53219/53219 [==============================] - 9s 169us/step - loss: 0.4240 - acc: 0.8128 - val_loss: 0.4159 - val_acc: 0.8171\n",
      "Epoch 4/20\n",
      "53219/53219 [==============================] - 9s 170us/step - loss: 0.4225 - acc: 0.8131 - val_loss: 0.4145 - val_acc: 0.8184\n",
      "Epoch 5/20\n",
      "53219/53219 [==============================] - 9s 170us/step - loss: 0.4212 - acc: 0.8138 - val_loss: 0.4138 - val_acc: 0.8172\n",
      "Epoch 6/20\n",
      "53219/53219 [==============================] - 9s 170us/step - loss: 0.4208 - acc: 0.8142 - val_loss: 0.4141 - val_acc: 0.8185\n",
      "Epoch 7/20\n",
      "53219/53219 [==============================] - 9s 171us/step - loss: 0.4205 - acc: 0.8137 - val_loss: 0.4147 - val_acc: 0.8179\n"
     ]
    }
   ],
   "source": [
    "result5 = model5.fit(partial_x_train, partial_y_train, epochs=20,shuffle=True,\n",
    "                   batch_size = 15, validation_data=(x_val,y_val),callbacks=callbacks)"
   ]
  },
  {
   "cell_type": "code",
   "execution_count": 183,
   "metadata": {},
   "outputs": [
    {
     "data": {
      "text/plain": [
       "0.8175924674340932"
      ]
     },
     "execution_count": 183,
     "metadata": {},
     "output_type": "execute_result"
    }
   ],
   "source": [
    "model5.evaluate(X_test, y_test, verbose=0)[1]"
   ]
  },
  {
   "cell_type": "code",
   "execution_count": 184,
   "metadata": {},
   "outputs": [
    {
     "data": {
      "image/png": "[encoded data removed]",
      "text/plain": [
       "<Figure size 432x288 with 2 Axes>"
      ]
     },
     "metadata": {},
     "output_type": "display_data"
    }
   ],
   "source": [
    "predict4 = model5.predict(X_test, verbose=0)\n",
    "confusion_mtx = confusion_matrix(np.argmax(y_test,axis=1), np.argmax(predict4,axis=1)) \n",
    "# plot the confusion matrix\n",
    "plot_confusion_matrix(confusion_mtx, classes = classes) "
   ]
  },
  {
   "cell_type": "markdown",
   "metadata": {},
   "source": [
    "#### compare with other machine learing algorithm"
   ]
  },
  {
   "cell_type": "code",
   "execution_count": 143,
   "metadata": {},
   "outputs": [],
   "source": [
    "from sklearn.naive_bayes import MultinomialNB \n",
    "from sklearn.ensemble import AdaBoostClassifier\n",
    "from sklearn.model_selection import cross_validate\n",
    "from sklearn.linear_model import LogisticRegression\n",
    "from sklearn.ensemble import RandomForestClassifier\n",
    "from sklearn.svm import SVC\n",
    "from sklearn.model_selection import cross_val_score\n",
    "svc = SVC()\n",
    "lr = LogisticRegression()\n",
    "clf = MultinomialNB(alpha = 0.01) \n",
    "rf = RandomForestClassifier()\n",
    "ada = AdaBoostClassifier()\n",
    "X =  tf_vec \n",
    "y_mach= data.label_value"
   ]
  },
  {
   "cell_type": "code",
   "execution_count": 144,
   "metadata": {},
   "outputs": [
    {
     "name": "stdout",
     "output_type": "stream",
     "text": [
      "[('lr', 0.57322458961829026), ('rf', 0.51079419965764472), ('clf', 0.47959253998347667), ('ada', 0.46123799223410333), ('svc', 0.38416230503245924)]\n"
     ]
    }
   ],
   "source": [
    "models = [# use tf_idf as input\n",
    "    (\"lr\", lr),\n",
    "    (\"svc\", svc),\n",
    "    (\"rf\", rf),\n",
    "    (\"clf\", clf),\n",
    "    (\"ada\", ada)\n",
    "\n",
    "]\n",
    "\n",
    "\n",
    "unsorted_scores = [(name, cross_val_score(model, X, y_mach, cv=5).mean()) for name, model in models]\n",
    "scores = sorted(unsorted_scores, key=lambda x: -x[1])\n",
    "\n",
    "\n",
    "print(scores)"
   ]
  },
  {
   "cell_type": "code",
   "execution_count": 153,
   "metadata": {},
   "outputs": [
    {
     "data": {
      "text/html": [
       "<div>\n",
       "<style scoped>\n",
       "    .dataframe tbody tr th:only-of-type {\n",
       "        vertical-align: middle;\n",
       "    }\n",
       "\n",
       "    .dataframe tbody tr th {\n",
       "        vertical-align: top;\n",
       "    }\n",
       "\n",
       "    .dataframe thead th {\n",
       "        text-align: right;\n",
       "    }\n",
       "</style>\n",
       "<table border=\"1\" class=\"dataframe\">\n",
       "  <thead>\n",
       "    <tr style=\"text-align: right;\">\n",
       "      <th></th>\n",
       "      <th>ada</th>\n",
       "      <th>clf</th>\n",
       "      <th>lr</th>\n",
       "      <th>rf</th>\n",
       "      <th>svc</th>\n",
       "    </tr>\n",
       "  </thead>\n",
       "  <tbody>\n",
       "    <tr>\n",
       "      <th>0</th>\n",
       "      <td>0.461238</td>\n",
       "      <td>0.479593</td>\n",
       "      <td>0.573225</td>\n",
       "      <td>0.510794</td>\n",
       "      <td>0.384162</td>\n",
       "    </tr>\n",
       "  </tbody>\n",
       "</table>\n",
       "</div>"
      ],
      "text/plain": [
       "        ada       clf        lr        rf       svc\n",
       "0  0.461238  0.479593  0.573225  0.510794  0.384162"
      ]
     },
     "execution_count": 153,
     "metadata": {},
     "output_type": "execute_result"
    }
   ],
   "source": [
    "pd.DataFrame(dict(scores),index=[0])"
   ]
  },
  {
   "cell_type": "code",
   "execution_count": 154,
   "metadata": {},
   "outputs": [
    {
     "name": "stdout",
     "output_type": "stream",
     "text": [
      "[('ada', 0.42650407400968549), ('lr', 0.39824053777778212), ('svc', 0.38416230503245924), ('rf', 0.38244368166579801)]\n",
      "Wall time: 1h 40min 47s\n"
     ]
    }
   ],
   "source": [
    "\n",
    "%%time\n",
    "models = [# use doc2vec as input\n",
    "    (\"lr\", lr),\n",
    "    (\"svc\", svc),\n",
    "    (\"rf\", rf),\n",
    "    \n",
    "    (\"ada\", ada)\n",
    "\n",
    "]\n",
    "\n",
    "\n",
    "unsorted_scores = [(name, cross_val_score(model, np.array(x_model5), y_mach, cv=5).mean()) for name, model in models]\n",
    "scores = sorted(unsorted_scores, key=lambda x: -x[1])\n",
    "\n",
    "\n",
    "print(scores)"
   ]
  },
  {
   "cell_type": "code",
   "execution_count": 155,
   "metadata": {},
   "outputs": [
    {
     "data": {
      "text/html": [
       "<div>\n",
       "<style scoped>\n",
       "    .dataframe tbody tr th:only-of-type {\n",
       "        vertical-align: middle;\n",
       "    }\n",
       "\n",
       "    .dataframe tbody tr th {\n",
       "        vertical-align: top;\n",
       "    }\n",
       "\n",
       "    .dataframe thead th {\n",
       "        text-align: right;\n",
       "    }\n",
       "</style>\n",
       "<table border=\"1\" class=\"dataframe\">\n",
       "  <thead>\n",
       "    <tr style=\"text-align: right;\">\n",
       "      <th></th>\n",
       "      <th>ada</th>\n",
       "      <th>lr</th>\n",
       "      <th>rf</th>\n",
       "      <th>svc</th>\n",
       "    </tr>\n",
       "  </thead>\n",
       "  <tbody>\n",
       "    <tr>\n",
       "      <th>0</th>\n",
       "      <td>0.426504</td>\n",
       "      <td>0.398241</td>\n",
       "      <td>0.382444</td>\n",
       "      <td>0.384162</td>\n",
       "    </tr>\n",
       "  </tbody>\n",
       "</table>\n",
       "</div>"
      ],
      "text/plain": [
       "        ada        lr        rf       svc\n",
       "0  0.426504  0.398241  0.382444  0.384162"
      ]
     },
     "execution_count": 155,
     "metadata": {},
     "output_type": "execute_result"
    }
   ],
   "source": [
    "pd.DataFrame(dict(scores),index=[0])"
   ]
  },
  {
   "cell_type": "markdown",
   "metadata": {},
   "source": [
    "#### summary:\n",
    "deep learing model have high performance in this model\n",
    "the parameter tuning in deep learing model is very important, because there are no grid search in keras and for avoiding repeating code, I just keep the parameter that show the best result.\n",
    "add word2vec not increase the performance of this model much, but the model with word2vec and doc2vec have low overfitting problem"
   ]
  },
  {
   "cell_type": "code",
   "execution_count": null,
   "metadata": {},
   "outputs": [],
   "source": []
  }
 ],
 "metadata": {
  "kernelspec": {
   "display_name": "Python 3",
   "language": "python",
   "name": "python3"
  },
  "language_info": {
   "codemirror_mode": {
    "name": "ipython",
    "version": 3
   },
   "file_extension": ".py",
   "mimetype": "text/x-python",
   "name": "python",
   "nbconvert_exporter": "python",
   "pygments_lexer": "ipython3",
   "version": "3.5.5"
  }
 },
 "nbformat": 4,
 "nbformat_minor": 2
}
